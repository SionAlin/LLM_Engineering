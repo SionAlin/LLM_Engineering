{
 "cells": [
  {
   "cell_type": "markdown",
   "id": "e8c19465-d61f-4e00-b8f8-79cf1e57ab85",
   "metadata": {},
   "source": [
    "# Imports"
   ]
  },
  {
   "cell_type": "code",
   "execution_count": 1,
   "id": "fcd2268e-a431-45d0-b548-4e2c5c029112",
   "metadata": {},
   "outputs": [],
   "source": [
    "import os\n",
    "import glob\n",
    "from dotenv import load_dotenv\n",
    "import gradio as gr"
   ]
  },
  {
   "cell_type": "markdown",
   "id": "c3c9b242-d796-4b95-a715-a565d89e7c14",
   "metadata": {},
   "source": [
    "# Imports for langchain, plotly and Chroma"
   ]
  },
  {
   "cell_type": "code",
   "execution_count": 2,
   "id": "19f99500-bb9a-4465-a612-050802a4dc39",
   "metadata": {},
   "outputs": [],
   "source": [
    "from langchain.document_loaders import DirectoryLoader, TextLoader\n",
    "from langchain.text_splitter import CharacterTextSplitter\n",
    "from langchain.schema import Document\n",
    "from langchain_openai import OpenAIEmbeddings, ChatOpenAI\n",
    "from langchain_chroma import Chroma\n",
    "import matplotlib.pyplot as plt\n",
    "from sklearn.manifold import TSNE\n",
    "import numpy as np\n",
    "import plotly.graph_objects as go\n",
    "from langchain.memory import ConversationBufferMemory\n",
    "from langchain.chains import ConversationalRetrievalChain\n",
    "from langchain.embeddings import HuggingFaceEmbeddings"
   ]
  },
  {
   "cell_type": "markdown",
   "id": "e22a21ee-9c25-46ee-847a-16c5619cc36e",
   "metadata": {},
   "source": [
    "# Price is a factor for our company, so we're going to use a low cost model"
   ]
  },
  {
   "cell_type": "code",
   "execution_count": 20,
   "id": "1b8dfe22-337e-4f56-849e-5eb627ace46f",
   "metadata": {},
   "outputs": [],
   "source": [
    "MODEL = \"gpt-4o-mini\"\n",
    "db_name = \"vector_db\""
   ]
  },
  {
   "cell_type": "markdown",
   "id": "eca6f6d8-c96d-4bb3-a261-da5df54d7ea8",
   "metadata": {},
   "source": [
    "# Load environment variables in a file called .env"
   ]
  },
  {
   "cell_type": "code",
   "execution_count": 21,
   "id": "3bb1443d-a483-41b0-9c27-44537818c2ff",
   "metadata": {},
   "outputs": [],
   "source": [
    "load_dotenv(override=True)\n",
    "os.environ['OPENAI_API_KEY'] = os.getenv('OPENAI_API_KEY', 'your-key-if-not-using-env')"
   ]
  },
  {
   "cell_type": "markdown",
   "id": "a2fb8013-be2d-49e9-b0c0-21265df0f54e",
   "metadata": {},
   "source": [
    "# Read in documents using LangChain's loaders\n",
    "## Take everything in all the sub-folders of our knowledgebase"
   ]
  },
  {
   "cell_type": "code",
   "execution_count": 22,
   "id": "499da65f-a636-4f53-9526-51af8416762e",
   "metadata": {},
   "outputs": [
    {
     "name": "stdout",
     "output_type": "stream",
     "text": [
      "Total number of chunks: 76\n",
      "Document types found: {'company', 'products', 'contracts', 'employees'}\n"
     ]
    }
   ],
   "source": [
    "folders = glob.glob(\"knowledge-base/*\")\n",
    "\n",
    "def add_metadata(doc, doc_type):\n",
    "    doc.metadata[\"doc_type\"] = doc_type\n",
    "    return doc\n",
    "\n",
    "text_loader_kwargs = {'encoding': 'utf-8'}\n",
    "\n",
    "documents = []\n",
    "for folder in folders:\n",
    "    doc_type = os.path.basename(folder)\n",
    "    loader = DirectoryLoader(folder, glob=\"**/*.md\", loader_cls=TextLoader, loader_kwargs=text_loader_kwargs)\n",
    "    folder_docs = loader.load()\n",
    "    documents.extend([add_metadata(doc, doc_type) for doc in folder_docs])\n",
    "\n",
    "text_splitter = CharacterTextSplitter(chunk_size=1000, chunk_overlap=200)\n",
    "chunks = text_splitter.split_documents(documents)"
   ]
  },
  {
   "cell_type": "markdown",
   "id": "1284ea8e-25d8-462d-a55b-753d3a3a2f57",
   "metadata": {},
   "source": [
    "# Put the chunks of data into a Vector Store that associates a Vector Embedding with each chunk"
   ]
  },
  {
   "cell_type": "code",
   "execution_count": 23,
   "id": "365023bc-15cc-4e01-b183-b6f1bd23dddb",
   "metadata": {},
   "outputs": [
    {
     "name": "stdout",
     "output_type": "stream",
     "text": [
      "Vectorstore created with 76 documents\n"
     ]
    }
   ],
   "source": [
    "embeddings = OpenAIEmbeddings()\n",
    "if os.path.exists(db_name):\n",
    "    Chroma(persist_directory=db_name, embedding_function=embeddings).delete_collection()\n",
    "vectorstore = Chroma.from_documents(documents=chunks, embedding=embeddings, persist_directory=db_name)"
   ]
  },
  {
   "cell_type": "markdown",
   "id": "e93c907d-0b74-42f8-a117-3c825c21a2f5",
   "metadata": {},
   "source": [
    "# Let's investigate the vectors"
   ]
  },
  {
   "cell_type": "code",
   "execution_count": 24,
   "id": "9c1a4590-ef7e-4866-9475-379de8c91d0d",
   "metadata": {},
   "outputs": [
    {
     "name": "stdout",
     "output_type": "stream",
     "text": [
      "There are 76 vectors with 1,536 dimensions in the vector store\n"
     ]
    }
   ],
   "source": [
    "collection = vectorstore._collection\n",
    "count = collection.count()\n",
    "\n",
    "sample_embedding = collection.get(limit=1, include=[\"embeddings\"])[\"embeddings\"][0]"
   ]
  },
  {
   "cell_type": "markdown",
   "id": "7ed33c71-8fab-4b89-8219-f87635f82f39",
   "metadata": {},
   "source": [
    "# Prework (with thanks to Jon R for identifying and fixing a bug in this!)"
   ]
  },
  {
   "cell_type": "code",
   "execution_count": 25,
   "id": "68f48f0e-091c-4af0-9d02-062a8c31de6e",
   "metadata": {},
   "outputs": [],
   "source": [
    "result = collection.get(include=['embeddings', 'documents', 'metadatas'])\n",
    "vectors = np.array(result['embeddings'])\n",
    "documents = result['documents']\n",
    "metadatas = result['metadatas']\n",
    "doc_types = [metadata['doc_type'] for metadata in metadatas]\n",
    "colors = [['blue', 'green', 'red', 'orange'][['products', 'employees', 'contracts', 'company'].index(t)] for t in doc_types]"
   ]
  },
  {
   "cell_type": "markdown",
   "id": "17e07da8-6fb0-471a-bbc7-f2bc4888226c",
   "metadata": {},
   "source": [
    "# Create the 2D scatter plot"
   ]
  },
  {
   "cell_type": "code",
   "execution_count": 26,
   "id": "976797c7-afd0-4ca0-af9c-ae9f5fcc104b",
   "metadata": {},
   "outputs": [
    {
     "data": {
      "application/vnd.plotly.v1+json": {
       "config": {
        "plotlyServerURL": "https://plot.ly"
       },
       "data": [
        {
         "hoverinfo": "text",
         "marker": {
          "color": [
           "orange",
           "orange",
           "orange",
           "red",
           "red",
           "red",
           "red",
           "red",
           "red",
           "red",
           "red",
           "red",
           "red",
           "red",
           "red",
           "red",
           "red",
           "red",
           "red",
           "red",
           "red",
           "red",
           "red",
           "red",
           "red",
           "red",
           "red",
           "red",
           "red",
           "red",
           "red",
           "red",
           "red",
           "red",
           "red",
           "red",
           "red",
           "red",
           "red",
           "red",
           "red",
           "red",
           "red",
           "red",
           "red",
           "red",
           "red",
           "green",
           "green",
           "green",
           "green",
           "green",
           "green",
           "green",
           "green",
           "green",
           "green",
           "green",
           "blue",
           "blue",
           "blue",
           "blue",
           "blue",
           "blue",
           "blue",
           "blue",
           "blue",
           "blue",
           "blue",
           "blue",
           "blue",
           "blue",
           "blue",
           "blue",
           "blue",
           "blue"
          ],
          "opacity": 0.8,
          "size": 5
         },
         "mode": "markers",
         "text": [
          "Type: company<br>Text: # About LIXSIO\n\nAt LIXSIO, we are a forward-thinking IT startup based in Iași, Romania, committed to...",
          "Type: company<br>Text: # Careers at LIXSIO\n\nLIXSIO is hiring! We are looking for talented software engineers, data scientis...",
          "Type: company<br>Text: # Overview of LIXSIO\n\nAt LIXSIO, we’re on a mission to craft Android apps that don’t just work — the...",
          "Type: contracts<br>Text: # Contract with [Client Name] for [Product Name]: Custom Android Application\n\n## Terms\n\n1. **Parties...",
          "Type: contracts<br>Text: 4. **Contract Duration**: This Agreement shall commence on [Start Date] and remain in effect for twe...",
          "Type: contracts<br>Text: 2. **Renewal Pricing**: Upon renewal, the pricing may be subject to adjustment by the Provider, with...",
          "Type: contracts<br>Text: 2. **Training and Onboarding**: Provider will deliver onboarding training for up to [X] members of t...",
          "Type: contracts<br>Text: # Contract with [Client Name] for [App Name]: Custom Android Application\n\n## Terms\nThis Contract (\"A...",
          "Type: contracts<br>Text: ---\n\n## Renewal\n1. **Renewal Terms**: This Agreement may be renewed for additional one-year terms up...",
          "Type: contracts<br>Text: ---\n\n## Support\n1. **Technical Support**: Available 9 AM to 7 PM EET, Monday through Friday, via ema...",
          "Type: contracts<br>Text: # Contract with [Client Name] for Custom Android Application\n\n**Contract Date:** [Date]  \n**Contract...",
          "Type: contracts<br>Text: 3. **Service Level Agreement (SLA):**  \n   LIXSIO commits to:\n   - 99.9% uptime for hosted backend s...",
          "Type: contracts<br>Text: 2. **Review Period:**  \n   Both parties will review performance, features, and pricing annually, wit...",
          "Type: contracts<br>Text: 2. **Additional Support Services:**  \n   Optional premium support package for **$[amount]/month**, i...",
          "Type: contracts<br>Text: # Contract with [Client Name] for Custom Android Application\n\n**Contract Number:** LXS-[Year]-[ID]  ...",
          "Type: contracts<br>Text: 4. **Usage Rights**: The Client is granted a non-exclusive, non-transferable license to use the deli...",
          "Type: contracts<br>Text: ---\n\n## Features\n\n1. **Custom UI/UX** – Branded design optimized for Android devices.  \n2. **Core Fu...",
          "Type: contracts<br>Text: ---\n\n## Support\n\n1. **Customer Support**: LIXSIO will provide [standard hours] support via email, ch...",
          "Type: contracts<br>Text: # Contract with [Client Name] for Custom Android Application\n\n**Effective Date:** [Start Date]  \n**C...",
          "Type: contracts<br>Text: ---\n\n## Renewal\n1. **Automatic Renewal**: This contract will automatically renew for additional one-...",
          "Type: contracts<br>Text: ---\n\n## Support\n1. **Customer Support Access**: Client will have access to dedicated technical suppo...",
          "Type: contracts<br>Text: ---\n\n**Signatures:**  \n_________________________                           _________________________...",
          "Type: contracts<br>Text: # Contract with [Client Name] for Custom Android Application\n\n---\n\n## Terms\n\n1. **Parties**: This Co...",
          "Type: contracts<br>Text: 3. **Contract Duration**: This Agreement shall commence on [Insert Start Date] and continue for a pe...",
          "Type: contracts<br>Text: ---\n\n## Features\n\n- **Custom UI/UX**: Fully branded, responsive, and user-friendly interface optimiz...",
          "Type: contracts<br>Text: 2. **Ongoing Support**: Provider will supply ongoing technical support via email and phone during bu...",
          "Type: contracts<br>Text: # Contract with GreenValley Insurance for Homellm\n\n**Contract Date:** October 6, 2023  \n**Contract N...",
          "Type: contracts<br>Text: ---\n\n## Terms\n\n1. **Coverage:**  \n   Insurellm agrees to provide GreenValley Insurance with access t...",
          "Type: contracts<br>Text: ---\n\n## Renewal\n\nUnless either party provides a written notice of termination at least 30 days prior...",
          "Type: contracts<br>Text: ---\n\n## Support\n\nInsurellm commits to providing comprehensive support to GreenValley Insurance, whic...",
          "Type: contracts<br>Text: # Contract with Pinnacle Insurance Co. for Homellm\n\n## Terms  \nThis contract (\"Contract\") is entered...",
          "Type: contracts<br>Text: 3. **Term:**  \n   The initial term of this Contract shall last for a period of two (2) years from th...",
          "Type: contracts<br>Text: 3. **Instant Claim Processing:**  \n   Claims resolved in hours rather than weeks, significantly impr...",
          "Type: contracts<br>Text: 2. **Training:**  \n   Insurellm will conduct an onsite training session for Client employees upon im...",
          "Type: contracts<br>Text: # Contract with Roadway Insurance Inc. for Carllm\n\n---\n\n## Terms\n\n1. **Agreement Effective Date:**  ...",
          "Type: contracts<br>Text: ---\n\n## Renewal\n\n1. **Automatic Renewal:**  \n   This agreement will automatically renew for an addit...",
          "Type: contracts<br>Text: 2. **Mobile Integration:**  \n   All features will be accessible through a mobile application that In...",
          "Type: contracts<br>Text: # Contract with Stellar Insurance Co. for Rellm\n\n## Terms\n\nThis contract is made between **Insurellm...",
          "Type: contracts<br>Text: ### Termination  \nEither party may terminate this agreement with a **30-day written notice**. In the...",
          "Type: contracts<br>Text: ## Features  \nStellar Insurance Co. will receive access to the following features of the Rellm produ...",
          "Type: contracts<br>Text: ## Support  \nInsurellm provides Stellar Insurance Co. with the following support services:\n\n- **24/7...",
          "Type: contracts<br>Text: # Contract with TechDrive Insurance for Carllm\n\n**Contract Date:** October 1, 2025  \n**Contract Dura...",
          "Type: contracts<br>Text: ## Renewal\n\n1. **Automatic Renewal**: This contract shall automatically renew for additional one-yea...",
          "Type: contracts<br>Text: ## Support\n\n1. **Customer Support**: Insurellm will provide 24/7 customer support to TechDrive Insur...",
          "Type: contracts<br>Text: # Contract with Velocity Auto Solutions for Carllm\n\n**Contract Date:** October 1, 2023  \n**Contract ...",
          "Type: contracts<br>Text: ## Renewal\n\n1. **Automatic Renewal**: This contract will automatically renew for successive 12-month...",
          "Type: contracts<br>Text: ## Support\n\n1. **Customer Support**: Velocity Auto Solutions will have access to Insurellm’s custome...",
          "Type: employees<br>Text: # HR Record\n\n# Alex Thomson\n\n## Summary\n- **Date of Birth:** March 15, 1995  \n- **Job Title:** Sales...",
          "Type: employees<br>Text: ### Highlights:\n- Maintained 30-minute response time to inbound leads.  \n- Coordinated product launc...",
          "Type: employees<br>Text: # HR Record\n\n# Jordan K. Bishop\n\n## Summary\n- **Date of Birth:** March 15, 1990  \n- **Job Title:** F...",
          "Type: employees<br>Text: ## Annual Performance History\n- **2019:** Exceeds Expectations — delivered high-quality code and eng...",
          "Type: employees<br>Text: ## Other HR Notes\n- Integral in LIXSIO Code Reviews & Feedback Group, offering peer support.  \n- Act...",
          "Type: employees<br>Text: # HR Record\n\n# Maxine Thompson\n\n## Summary\n- **Date of Birth:** January 15, 1991  \n- **Job Title:** ...",
          "Type: employees<br>Text: ## Annual Performance History\n- **2017:** Meets Expectations — showed potential but struggled with d...",
          "Type: employees<br>Text: ## Compensation History\n- **2017:** $70,000 (Junior Data Engineer)  \n- **2018:** $75,000 (Junior Dat...",
          "Type: employees<br>Text: # HR Record\n\n# Sion Alin\n\n## Summary\n- **Date of Birth:** 19/08/2003  \n- **Job Title:** Chief Execut...",
          "Type: employees<br>Text: ## Key Skills & Expertise\n- Frontend Development: HTML5, CSS, JavaScript, React.js  \n- Artificial In...",
          "Type: employees<br>Text: ---\n\nSion Alin exemplifies forward-thinking leadership, blending technical expertise with strategic ...",
          "Type: products<br>Text: # Consumer Mobile Experiences # Product Summary\n\n# LIXHome Mobile\n\n## Summary\nLIXHome Mobile is the ...",
          "Type: products<br>Text: ### 2. Dynamic Premium Updates\nConsumers receive real-time updates on their policy pricing based on ...",
          "Type: products<br>Text: ### 6. Policy Management Dashboard\nAn intuitive dashboard allows users to view, update, and manage a...",
          "Type: products<br>Text: ## Roadmap\nPlanned mobile-specific enhancements include:\n\n- **Q1 2024:** Launch of the LIXHome Mobil...",
          "Type: products<br>Text: # Cross-Platform Solutions # Product Summary\n\n# Markellm Marketplace\n\n## Summary\n\nMarkellm Marketpla...",
          "Type: products<br>Text: - **Intuitive Cross-Platform Interface**  \n  Designed for seamless use across web and mobile devices...",
          "Type: products<br>Text: - **Dedicated Customer Support**  \n  Round-the-clock support is available for both consumers and ins...",
          "Type: products<br>Text: ## 2025-2026 Roadmap\n\n### Q1 2025  \n- Launch Markellm mobile app for both iOS and Android to increas...",
          "Type: products<br>Text: ### Q4 2026  \n- Upgrade AI algorithms with machine learning to improve match personalization and pre...",
          "Type: products<br>Text: # Custom Business Apps # Product Summary\n\n# LIXDrive\n\n## Summary\n\nLIXDrive is the flagship auto insu...",
          "Type: products<br>Text: - **Instant Quoting**  \n  With LIXDrive’s real-time AI engine, insurers can generate near-instant qu...",
          "Type: products<br>Text: - **Automated Customer Support**  \n  AI chatbots offer 24/7 customer support, improving response tim...",
          "Type: products<br>Text: ## 2025-2026 Roadmap\n\n### Q1 2025: Feature Enhancements  \n- Expand data integrations for more compre...",
          "Type: products<br>Text: ### 2026: Growth & Partnerships  \n- Expand partnerships with automakers for integrated insurance off...",
          "Type: products<br>Text: # MVP & Prototype Development # Product Summary\n\n# Rellm: AI-Powered Enterprise Reinsurance Solution...",
          "Type: products<br>Text: ### Seamless Integrations  \nBuilt for compatibility, Rellm integrates effortlessly with existing sys...",
          "Type: products<br>Text: ## Pricing\n\nInsurellm offers flexible pricing plans designed to fit a range of enterprise needs:\n\n- ...",
          "Type: products<br>Text: - **Q1 2026**  \n  - Deploy next-generation machine learning models to enhance risk prediction accura..."
         ],
         "type": "scatter",
         "x": {
          "bdata": "rJMcQOI5BkCVoSJAVsqLQBgiBEFg8MZA2kzEQHJfcUAbb85ALcusQPI7XEBOSt5AvyfCQO34pEDmq3NA0mbZQEcrrUBaap9AJ3dPQNzH3EA+sqlAfmiSQHolZkDU0ftAfty1QO0JvEA9gkRBU348QXHKOEFZRDtBcB4wQeK1D0ECdw5BAOckQX6NI0HbVwZBBPsHQfTSJ0G2VStBSr4NQaB5GkHECyBBn5MOQYgTDkGsPSJBAp4MQUXSFUEroMS8/6aJvi3TA77FPV2/Gt94vvegXr/zSV6/eZttv0ByFD8FSddAkenXQB5lZkB6mYBA2YuSQK3ufkBHpqpADmPCQPihxUCju6JAlquYQF6eOECRkkVALTk+QP63lkD6mGxADjD9QIsJCUFmHPNAJv3iQA==",
          "dtype": "f4"
         },
         "y": {
          "bdata": "L1cUwP0afb848h7Ag1WfwBaOh8BPwjXAWMzOwEwwoMDqq5PAg9fbwIxAncD9ebnAyDY/wNqgx8APra7AKfGdwBtZFcCGbNrAL4i0wF6AYcDW8G3ANKH1wIuvusAvRYfAgW0hwFpx0cBNV5O/Qlasvx936b/WtYQ9sNEbv6tITMCyqU8/qSKLPbd6J8Ai2wLA1AY3Pevxuz8S69I/3WsOQFaK2D8ddfm/v87Vv/W5rr5p4Na/k1G9v7uFwb5bEhvA0QfGv5oXWsCpIGC+4+VzwHsBFsC099i8Ej7nvxutN8BGjuY+seJrPmy2Gb4fZO09M8UVvnEAmD74teM/nAjpP0ws/T+gf05AZmkBQLFbWD8Dz6c/2Z3DP0y1SkD4dNU/p4A9QEPwPkCwKgRAQVNKQA==",
          "dtype": "f4"
         }
        }
       ],
       "layout": {
        "height": 600,
        "margin": {
         "b": 10,
         "l": 10,
         "r": 20,
         "t": 40
        },
        "scene": {
         "xaxis": {
          "title": {
           "text": "x"
          }
         },
         "yaxis": {
          "title": {
           "text": "y"
          }
         }
        },
        "template": {
         "data": {
          "bar": [
           {
            "error_x": {
             "color": "#2a3f5f"
            },
            "error_y": {
             "color": "#2a3f5f"
            },
            "marker": {
             "line": {
              "color": "#E5ECF6",
              "width": 0.5
             },
             "pattern": {
              "fillmode": "overlay",
              "size": 10,
              "solidity": 0.2
             }
            },
            "type": "bar"
           }
          ],
          "barpolar": [
           {
            "marker": {
             "line": {
              "color": "#E5ECF6",
              "width": 0.5
             },
             "pattern": {
              "fillmode": "overlay",
              "size": 10,
              "solidity": 0.2
             }
            },
            "type": "barpolar"
           }
          ],
          "carpet": [
           {
            "aaxis": {
             "endlinecolor": "#2a3f5f",
             "gridcolor": "white",
             "linecolor": "white",
             "minorgridcolor": "white",
             "startlinecolor": "#2a3f5f"
            },
            "baxis": {
             "endlinecolor": "#2a3f5f",
             "gridcolor": "white",
             "linecolor": "white",
             "minorgridcolor": "white",
             "startlinecolor": "#2a3f5f"
            },
            "type": "carpet"
           }
          ],
          "choropleth": [
           {
            "colorbar": {
             "outlinewidth": 0,
             "ticks": ""
            },
            "type": "choropleth"
           }
          ],
          "contour": [
           {
            "colorbar": {
             "outlinewidth": 0,
             "ticks": ""
            },
            "colorscale": [
             [
              0,
              "#0d0887"
             ],
             [
              0.1111111111111111,
              "#46039f"
             ],
             [
              0.2222222222222222,
              "#7201a8"
             ],
             [
              0.3333333333333333,
              "#9c179e"
             ],
             [
              0.4444444444444444,
              "#bd3786"
             ],
             [
              0.5555555555555556,
              "#d8576b"
             ],
             [
              0.6666666666666666,
              "#ed7953"
             ],
             [
              0.7777777777777778,
              "#fb9f3a"
             ],
             [
              0.8888888888888888,
              "#fdca26"
             ],
             [
              1,
              "#f0f921"
             ]
            ],
            "type": "contour"
           }
          ],
          "contourcarpet": [
           {
            "colorbar": {
             "outlinewidth": 0,
             "ticks": ""
            },
            "type": "contourcarpet"
           }
          ],
          "heatmap": [
           {
            "colorbar": {
             "outlinewidth": 0,
             "ticks": ""
            },
            "colorscale": [
             [
              0,
              "#0d0887"
             ],
             [
              0.1111111111111111,
              "#46039f"
             ],
             [
              0.2222222222222222,
              "#7201a8"
             ],
             [
              0.3333333333333333,
              "#9c179e"
             ],
             [
              0.4444444444444444,
              "#bd3786"
             ],
             [
              0.5555555555555556,
              "#d8576b"
             ],
             [
              0.6666666666666666,
              "#ed7953"
             ],
             [
              0.7777777777777778,
              "#fb9f3a"
             ],
             [
              0.8888888888888888,
              "#fdca26"
             ],
             [
              1,
              "#f0f921"
             ]
            ],
            "type": "heatmap"
           }
          ],
          "histogram": [
           {
            "marker": {
             "pattern": {
              "fillmode": "overlay",
              "size": 10,
              "solidity": 0.2
             }
            },
            "type": "histogram"
           }
          ],
          "histogram2d": [
           {
            "colorbar": {
             "outlinewidth": 0,
             "ticks": ""
            },
            "colorscale": [
             [
              0,
              "#0d0887"
             ],
             [
              0.1111111111111111,
              "#46039f"
             ],
             [
              0.2222222222222222,
              "#7201a8"
             ],
             [
              0.3333333333333333,
              "#9c179e"
             ],
             [
              0.4444444444444444,
              "#bd3786"
             ],
             [
              0.5555555555555556,
              "#d8576b"
             ],
             [
              0.6666666666666666,
              "#ed7953"
             ],
             [
              0.7777777777777778,
              "#fb9f3a"
             ],
             [
              0.8888888888888888,
              "#fdca26"
             ],
             [
              1,
              "#f0f921"
             ]
            ],
            "type": "histogram2d"
           }
          ],
          "histogram2dcontour": [
           {
            "colorbar": {
             "outlinewidth": 0,
             "ticks": ""
            },
            "colorscale": [
             [
              0,
              "#0d0887"
             ],
             [
              0.1111111111111111,
              "#46039f"
             ],
             [
              0.2222222222222222,
              "#7201a8"
             ],
             [
              0.3333333333333333,
              "#9c179e"
             ],
             [
              0.4444444444444444,
              "#bd3786"
             ],
             [
              0.5555555555555556,
              "#d8576b"
             ],
             [
              0.6666666666666666,
              "#ed7953"
             ],
             [
              0.7777777777777778,
              "#fb9f3a"
             ],
             [
              0.8888888888888888,
              "#fdca26"
             ],
             [
              1,
              "#f0f921"
             ]
            ],
            "type": "histogram2dcontour"
           }
          ],
          "mesh3d": [
           {
            "colorbar": {
             "outlinewidth": 0,
             "ticks": ""
            },
            "type": "mesh3d"
           }
          ],
          "parcoords": [
           {
            "line": {
             "colorbar": {
              "outlinewidth": 0,
              "ticks": ""
             }
            },
            "type": "parcoords"
           }
          ],
          "pie": [
           {
            "automargin": true,
            "type": "pie"
           }
          ],
          "scatter": [
           {
            "fillpattern": {
             "fillmode": "overlay",
             "size": 10,
             "solidity": 0.2
            },
            "type": "scatter"
           }
          ],
          "scatter3d": [
           {
            "line": {
             "colorbar": {
              "outlinewidth": 0,
              "ticks": ""
             }
            },
            "marker": {
             "colorbar": {
              "outlinewidth": 0,
              "ticks": ""
             }
            },
            "type": "scatter3d"
           }
          ],
          "scattercarpet": [
           {
            "marker": {
             "colorbar": {
              "outlinewidth": 0,
              "ticks": ""
             }
            },
            "type": "scattercarpet"
           }
          ],
          "scattergeo": [
           {
            "marker": {
             "colorbar": {
              "outlinewidth": 0,
              "ticks": ""
             }
            },
            "type": "scattergeo"
           }
          ],
          "scattergl": [
           {
            "marker": {
             "colorbar": {
              "outlinewidth": 0,
              "ticks": ""
             }
            },
            "type": "scattergl"
           }
          ],
          "scattermap": [
           {
            "marker": {
             "colorbar": {
              "outlinewidth": 0,
              "ticks": ""
             }
            },
            "type": "scattermap"
           }
          ],
          "scattermapbox": [
           {
            "marker": {
             "colorbar": {
              "outlinewidth": 0,
              "ticks": ""
             }
            },
            "type": "scattermapbox"
           }
          ],
          "scatterpolar": [
           {
            "marker": {
             "colorbar": {
              "outlinewidth": 0,
              "ticks": ""
             }
            },
            "type": "scatterpolar"
           }
          ],
          "scatterpolargl": [
           {
            "marker": {
             "colorbar": {
              "outlinewidth": 0,
              "ticks": ""
             }
            },
            "type": "scatterpolargl"
           }
          ],
          "scatterternary": [
           {
            "marker": {
             "colorbar": {
              "outlinewidth": 0,
              "ticks": ""
             }
            },
            "type": "scatterternary"
           }
          ],
          "surface": [
           {
            "colorbar": {
             "outlinewidth": 0,
             "ticks": ""
            },
            "colorscale": [
             [
              0,
              "#0d0887"
             ],
             [
              0.1111111111111111,
              "#46039f"
             ],
             [
              0.2222222222222222,
              "#7201a8"
             ],
             [
              0.3333333333333333,
              "#9c179e"
             ],
             [
              0.4444444444444444,
              "#bd3786"
             ],
             [
              0.5555555555555556,
              "#d8576b"
             ],
             [
              0.6666666666666666,
              "#ed7953"
             ],
             [
              0.7777777777777778,
              "#fb9f3a"
             ],
             [
              0.8888888888888888,
              "#fdca26"
             ],
             [
              1,
              "#f0f921"
             ]
            ],
            "type": "surface"
           }
          ],
          "table": [
           {
            "cells": {
             "fill": {
              "color": "#EBF0F8"
             },
             "line": {
              "color": "white"
             }
            },
            "header": {
             "fill": {
              "color": "#C8D4E3"
             },
             "line": {
              "color": "white"
             }
            },
            "type": "table"
           }
          ]
         },
         "layout": {
          "annotationdefaults": {
           "arrowcolor": "#2a3f5f",
           "arrowhead": 0,
           "arrowwidth": 1
          },
          "autotypenumbers": "strict",
          "coloraxis": {
           "colorbar": {
            "outlinewidth": 0,
            "ticks": ""
           }
          },
          "colorscale": {
           "diverging": [
            [
             0,
             "#8e0152"
            ],
            [
             0.1,
             "#c51b7d"
            ],
            [
             0.2,
             "#de77ae"
            ],
            [
             0.3,
             "#f1b6da"
            ],
            [
             0.4,
             "#fde0ef"
            ],
            [
             0.5,
             "#f7f7f7"
            ],
            [
             0.6,
             "#e6f5d0"
            ],
            [
             0.7,
             "#b8e186"
            ],
            [
             0.8,
             "#7fbc41"
            ],
            [
             0.9,
             "#4d9221"
            ],
            [
             1,
             "#276419"
            ]
           ],
           "sequential": [
            [
             0,
             "#0d0887"
            ],
            [
             0.1111111111111111,
             "#46039f"
            ],
            [
             0.2222222222222222,
             "#7201a8"
            ],
            [
             0.3333333333333333,
             "#9c179e"
            ],
            [
             0.4444444444444444,
             "#bd3786"
            ],
            [
             0.5555555555555556,
             "#d8576b"
            ],
            [
             0.6666666666666666,
             "#ed7953"
            ],
            [
             0.7777777777777778,
             "#fb9f3a"
            ],
            [
             0.8888888888888888,
             "#fdca26"
            ],
            [
             1,
             "#f0f921"
            ]
           ],
           "sequentialminus": [
            [
             0,
             "#0d0887"
            ],
            [
             0.1111111111111111,
             "#46039f"
            ],
            [
             0.2222222222222222,
             "#7201a8"
            ],
            [
             0.3333333333333333,
             "#9c179e"
            ],
            [
             0.4444444444444444,
             "#bd3786"
            ],
            [
             0.5555555555555556,
             "#d8576b"
            ],
            [
             0.6666666666666666,
             "#ed7953"
            ],
            [
             0.7777777777777778,
             "#fb9f3a"
            ],
            [
             0.8888888888888888,
             "#fdca26"
            ],
            [
             1,
             "#f0f921"
            ]
           ]
          },
          "colorway": [
           "#636efa",
           "#EF553B",
           "#00cc96",
           "#ab63fa",
           "#FFA15A",
           "#19d3f3",
           "#FF6692",
           "#B6E880",
           "#FF97FF",
           "#FECB52"
          ],
          "font": {
           "color": "#2a3f5f"
          },
          "geo": {
           "bgcolor": "white",
           "lakecolor": "white",
           "landcolor": "#E5ECF6",
           "showlakes": true,
           "showland": true,
           "subunitcolor": "white"
          },
          "hoverlabel": {
           "align": "left"
          },
          "hovermode": "closest",
          "mapbox": {
           "style": "light"
          },
          "paper_bgcolor": "white",
          "plot_bgcolor": "#E5ECF6",
          "polar": {
           "angularaxis": {
            "gridcolor": "white",
            "linecolor": "white",
            "ticks": ""
           },
           "bgcolor": "#E5ECF6",
           "radialaxis": {
            "gridcolor": "white",
            "linecolor": "white",
            "ticks": ""
           }
          },
          "scene": {
           "xaxis": {
            "backgroundcolor": "#E5ECF6",
            "gridcolor": "white",
            "gridwidth": 2,
            "linecolor": "white",
            "showbackground": true,
            "ticks": "",
            "zerolinecolor": "white"
           },
           "yaxis": {
            "backgroundcolor": "#E5ECF6",
            "gridcolor": "white",
            "gridwidth": 2,
            "linecolor": "white",
            "showbackground": true,
            "ticks": "",
            "zerolinecolor": "white"
           },
           "zaxis": {
            "backgroundcolor": "#E5ECF6",
            "gridcolor": "white",
            "gridwidth": 2,
            "linecolor": "white",
            "showbackground": true,
            "ticks": "",
            "zerolinecolor": "white"
           }
          },
          "shapedefaults": {
           "line": {
            "color": "#2a3f5f"
           }
          },
          "ternary": {
           "aaxis": {
            "gridcolor": "white",
            "linecolor": "white",
            "ticks": ""
           },
           "baxis": {
            "gridcolor": "white",
            "linecolor": "white",
            "ticks": ""
           },
           "bgcolor": "#E5ECF6",
           "caxis": {
            "gridcolor": "white",
            "linecolor": "white",
            "ticks": ""
           }
          },
          "title": {
           "x": 0.05
          },
          "xaxis": {
           "automargin": true,
           "gridcolor": "white",
           "linecolor": "white",
           "ticks": "",
           "title": {
            "standoff": 15
           },
           "zerolinecolor": "white",
           "zerolinewidth": 2
          },
          "yaxis": {
           "automargin": true,
           "gridcolor": "white",
           "linecolor": "white",
           "ticks": "",
           "title": {
            "standoff": 15
           },
           "zerolinecolor": "white",
           "zerolinewidth": 2
          }
         }
        },
        "title": {
         "text": "2D Chroma Vector Store Visualization"
        },
        "width": 800
       }
      },
      "image/png": "[encoded data removed]"
     },
     "metadata": {},
     "output_type": "display_data"
    }
   ],
   "source": [
    "tsne = TSNE(n_components=2, random_state=42)\n",
    "reduced_vectors = tsne.fit_transform(vectors)\n",
    "\n",
    "fig = go.Figure(data=[go.Scatter(\n",
    "    x=reduced_vectors[:, 0],\n",
    "    y=reduced_vectors[:, 1],\n",
    "    mode='markers',\n",
    "    marker=dict(size=5, color=colors, opacity=0.8),\n",
    "    text=[f\"Type: {t}<br>Text: {d[:100]}...\" for t, d in zip(doc_types, documents)],\n",
    "    hoverinfo='text'\n",
    ")])\n",
    "\n",
    "fig.update_layout(\n",
    "    title='2D Chroma Vector Store Visualization',\n",
    "    scene=dict(xaxis_title='x',yaxis_title='y'),\n",
    "    width=800,\n",
    "    height=600,\n",
    "    margin=dict(r=20, b=10, l=10, t=40)\n",
    ")\n",
    "\n",
    "fig.show()"
   ]
  },
  {
   "cell_type": "markdown",
   "id": "d7751d03-9fb8-4482-9551-ef7793219c36",
   "metadata": {},
   "source": [
    "# Create the 3D scatter plot"
   ]
  },
  {
   "cell_type": "code",
   "execution_count": 27,
   "id": "8b14290a-b468-4e17-a2f8-e93fb8b49d7d",
   "metadata": {},
   "outputs": [
    {
     "data": {
      "application/vnd.plotly.v1+json": {
       "config": {
        "plotlyServerURL": "https://plot.ly"
       },
       "data": [
        {
         "hoverinfo": "text",
         "marker": {
          "color": [
           "orange",
           "orange",
           "orange",
           "red",
           "red",
           "red",
           "red",
           "red",
           "red",
           "red",
           "red",
           "red",
           "red",
           "red",
           "red",
           "red",
           "red",
           "red",
           "red",
           "red",
           "red",
           "red",
           "red",
           "red",
           "red",
           "red",
           "red",
           "red",
           "red",
           "red",
           "red",
           "red",
           "red",
           "red",
           "red",
           "red",
           "red",
           "red",
           "red",
           "red",
           "red",
           "red",
           "red",
           "red",
           "red",
           "red",
           "red",
           "green",
           "green",
           "green",
           "green",
           "green",
           "green",
           "green",
           "green",
           "green",
           "green",
           "green",
           "blue",
           "blue",
           "blue",
           "blue",
           "blue",
           "blue",
           "blue",
           "blue",
           "blue",
           "blue",
           "blue",
           "blue",
           "blue",
           "blue",
           "blue",
           "blue",
           "blue",
           "blue"
          ],
          "opacity": 0.8,
          "size": 5
         },
         "mode": "markers",
         "text": [
          "Type: company<br>Text: # About LIXSIO\n\nAt LIXSIO, we are a forward-thinking IT startup based in Iași, Romania, committed to...",
          "Type: company<br>Text: # Careers at LIXSIO\n\nLIXSIO is hiring! We are looking for talented software engineers, data scientis...",
          "Type: company<br>Text: # Overview of LIXSIO\n\nAt LIXSIO, we’re on a mission to craft Android apps that don’t just work — the...",
          "Type: contracts<br>Text: # Contract with [Client Name] for [Product Name]: Custom Android Application\n\n## Terms\n\n1. **Parties...",
          "Type: contracts<br>Text: 4. **Contract Duration**: This Agreement shall commence on [Start Date] and remain in effect for twe...",
          "Type: contracts<br>Text: 2. **Renewal Pricing**: Upon renewal, the pricing may be subject to adjustment by the Provider, with...",
          "Type: contracts<br>Text: 2. **Training and Onboarding**: Provider will deliver onboarding training for up to [X] members of t...",
          "Type: contracts<br>Text: # Contract with [Client Name] for [App Name]: Custom Android Application\n\n## Terms\nThis Contract (\"A...",
          "Type: contracts<br>Text: ---\n\n## Renewal\n1. **Renewal Terms**: This Agreement may be renewed for additional one-year terms up...",
          "Type: contracts<br>Text: ---\n\n## Support\n1. **Technical Support**: Available 9 AM to 7 PM EET, Monday through Friday, via ema...",
          "Type: contracts<br>Text: # Contract with [Client Name] for Custom Android Application\n\n**Contract Date:** [Date]  \n**Contract...",
          "Type: contracts<br>Text: 3. **Service Level Agreement (SLA):**  \n   LIXSIO commits to:\n   - 99.9% uptime for hosted backend s...",
          "Type: contracts<br>Text: 2. **Review Period:**  \n   Both parties will review performance, features, and pricing annually, wit...",
          "Type: contracts<br>Text: 2. **Additional Support Services:**  \n   Optional premium support package for **$[amount]/month**, i...",
          "Type: contracts<br>Text: # Contract with [Client Name] for Custom Android Application\n\n**Contract Number:** LXS-[Year]-[ID]  ...",
          "Type: contracts<br>Text: 4. **Usage Rights**: The Client is granted a non-exclusive, non-transferable license to use the deli...",
          "Type: contracts<br>Text: ---\n\n## Features\n\n1. **Custom UI/UX** – Branded design optimized for Android devices.  \n2. **Core Fu...",
          "Type: contracts<br>Text: ---\n\n## Support\n\n1. **Customer Support**: LIXSIO will provide [standard hours] support via email, ch...",
          "Type: contracts<br>Text: # Contract with [Client Name] for Custom Android Application\n\n**Effective Date:** [Start Date]  \n**C...",
          "Type: contracts<br>Text: ---\n\n## Renewal\n1. **Automatic Renewal**: This contract will automatically renew for additional one-...",
          "Type: contracts<br>Text: ---\n\n## Support\n1. **Customer Support Access**: Client will have access to dedicated technical suppo...",
          "Type: contracts<br>Text: ---\n\n**Signatures:**  \n_________________________                           _________________________...",
          "Type: contracts<br>Text: # Contract with [Client Name] for Custom Android Application\n\n---\n\n## Terms\n\n1. **Parties**: This Co...",
          "Type: contracts<br>Text: 3. **Contract Duration**: This Agreement shall commence on [Insert Start Date] and continue for a pe...",
          "Type: contracts<br>Text: ---\n\n## Features\n\n- **Custom UI/UX**: Fully branded, responsive, and user-friendly interface optimiz...",
          "Type: contracts<br>Text: 2. **Ongoing Support**: Provider will supply ongoing technical support via email and phone during bu...",
          "Type: contracts<br>Text: # Contract with GreenValley Insurance for Homellm\n\n**Contract Date:** October 6, 2023  \n**Contract N...",
          "Type: contracts<br>Text: ---\n\n## Terms\n\n1. **Coverage:**  \n   Insurellm agrees to provide GreenValley Insurance with access t...",
          "Type: contracts<br>Text: ---\n\n## Renewal\n\nUnless either party provides a written notice of termination at least 30 days prior...",
          "Type: contracts<br>Text: ---\n\n## Support\n\nInsurellm commits to providing comprehensive support to GreenValley Insurance, whic...",
          "Type: contracts<br>Text: # Contract with Pinnacle Insurance Co. for Homellm\n\n## Terms  \nThis contract (\"Contract\") is entered...",
          "Type: contracts<br>Text: 3. **Term:**  \n   The initial term of this Contract shall last for a period of two (2) years from th...",
          "Type: contracts<br>Text: 3. **Instant Claim Processing:**  \n   Claims resolved in hours rather than weeks, significantly impr...",
          "Type: contracts<br>Text: 2. **Training:**  \n   Insurellm will conduct an onsite training session for Client employees upon im...",
          "Type: contracts<br>Text: # Contract with Roadway Insurance Inc. for Carllm\n\n---\n\n## Terms\n\n1. **Agreement Effective Date:**  ...",
          "Type: contracts<br>Text: ---\n\n## Renewal\n\n1. **Automatic Renewal:**  \n   This agreement will automatically renew for an addit...",
          "Type: contracts<br>Text: 2. **Mobile Integration:**  \n   All features will be accessible through a mobile application that In...",
          "Type: contracts<br>Text: # Contract with Stellar Insurance Co. for Rellm\n\n## Terms\n\nThis contract is made between **Insurellm...",
          "Type: contracts<br>Text: ### Termination  \nEither party may terminate this agreement with a **30-day written notice**. In the...",
          "Type: contracts<br>Text: ## Features  \nStellar Insurance Co. will receive access to the following features of the Rellm produ...",
          "Type: contracts<br>Text: ## Support  \nInsurellm provides Stellar Insurance Co. with the following support services:\n\n- **24/7...",
          "Type: contracts<br>Text: # Contract with TechDrive Insurance for Carllm\n\n**Contract Date:** October 1, 2025  \n**Contract Dura...",
          "Type: contracts<br>Text: ## Renewal\n\n1. **Automatic Renewal**: This contract shall automatically renew for additional one-yea...",
          "Type: contracts<br>Text: ## Support\n\n1. **Customer Support**: Insurellm will provide 24/7 customer support to TechDrive Insur...",
          "Type: contracts<br>Text: # Contract with Velocity Auto Solutions for Carllm\n\n**Contract Date:** October 1, 2023  \n**Contract ...",
          "Type: contracts<br>Text: ## Renewal\n\n1. **Automatic Renewal**: This contract will automatically renew for successive 12-month...",
          "Type: contracts<br>Text: ## Support\n\n1. **Customer Support**: Velocity Auto Solutions will have access to Insurellm’s custome...",
          "Type: employees<br>Text: # HR Record\n\n# Alex Thomson\n\n## Summary\n- **Date of Birth:** March 15, 1995  \n- **Job Title:** Sales...",
          "Type: employees<br>Text: ### Highlights:\n- Maintained 30-minute response time to inbound leads.  \n- Coordinated product launc...",
          "Type: employees<br>Text: # HR Record\n\n# Jordan K. Bishop\n\n## Summary\n- **Date of Birth:** March 15, 1990  \n- **Job Title:** F...",
          "Type: employees<br>Text: ## Annual Performance History\n- **2019:** Exceeds Expectations — delivered high-quality code and eng...",
          "Type: employees<br>Text: ## Other HR Notes\n- Integral in LIXSIO Code Reviews & Feedback Group, offering peer support.  \n- Act...",
          "Type: employees<br>Text: # HR Record\n\n# Maxine Thompson\n\n## Summary\n- **Date of Birth:** January 15, 1991  \n- **Job Title:** ...",
          "Type: employees<br>Text: ## Annual Performance History\n- **2017:** Meets Expectations — showed potential but struggled with d...",
          "Type: employees<br>Text: ## Compensation History\n- **2017:** $70,000 (Junior Data Engineer)  \n- **2018:** $75,000 (Junior Dat...",
          "Type: employees<br>Text: # HR Record\n\n# Sion Alin\n\n## Summary\n- **Date of Birth:** 19/08/2003  \n- **Job Title:** Chief Execut...",
          "Type: employees<br>Text: ## Key Skills & Expertise\n- Frontend Development: HTML5, CSS, JavaScript, React.js  \n- Artificial In...",
          "Type: employees<br>Text: ---\n\nSion Alin exemplifies forward-thinking leadership, blending technical expertise with strategic ...",
          "Type: products<br>Text: # Consumer Mobile Experiences # Product Summary\n\n# LIXHome Mobile\n\n## Summary\nLIXHome Mobile is the ...",
          "Type: products<br>Text: ### 2. Dynamic Premium Updates\nConsumers receive real-time updates on their policy pricing based on ...",
          "Type: products<br>Text: ### 6. Policy Management Dashboard\nAn intuitive dashboard allows users to view, update, and manage a...",
          "Type: products<br>Text: ## Roadmap\nPlanned mobile-specific enhancements include:\n\n- **Q1 2024:** Launch of the LIXHome Mobil...",
          "Type: products<br>Text: # Cross-Platform Solutions # Product Summary\n\n# Markellm Marketplace\n\n## Summary\n\nMarkellm Marketpla...",
          "Type: products<br>Text: - **Intuitive Cross-Platform Interface**  \n  Designed for seamless use across web and mobile devices...",
          "Type: products<br>Text: - **Dedicated Customer Support**  \n  Round-the-clock support is available for both consumers and ins...",
          "Type: products<br>Text: ## 2025-2026 Roadmap\n\n### Q1 2025  \n- Launch Markellm mobile app for both iOS and Android to increas...",
          "Type: products<br>Text: ### Q4 2026  \n- Upgrade AI algorithms with machine learning to improve match personalization and pre...",
          "Type: products<br>Text: # Custom Business Apps # Product Summary\n\n# LIXDrive\n\n## Summary\n\nLIXDrive is the flagship auto insu...",
          "Type: products<br>Text: - **Instant Quoting**  \n  With LIXDrive’s real-time AI engine, insurers can generate near-instant qu...",
          "Type: products<br>Text: - **Automated Customer Support**  \n  AI chatbots offer 24/7 customer support, improving response tim...",
          "Type: products<br>Text: ## 2025-2026 Roadmap\n\n### Q1 2025: Feature Enhancements  \n- Expand data integrations for more compre...",
          "Type: products<br>Text: ### 2026: Growth & Partnerships  \n- Expand partnerships with automakers for integrated insurance off...",
          "Type: products<br>Text: # MVP & Prototype Development # Product Summary\n\n# Rellm: AI-Powered Enterprise Reinsurance Solution...",
          "Type: products<br>Text: ### Seamless Integrations  \nBuilt for compatibility, Rellm integrates effortlessly with existing sys...",
          "Type: products<br>Text: ## Pricing\n\nInsurellm offers flexible pricing plans designed to fit a range of enterprise needs:\n\n- ...",
          "Type: products<br>Text: - **Q1 2026**  \n  - Deploy next-generation machine learning models to enhance risk prediction accura..."
         ],
         "type": "scatter3d",
         "x": {
          "bdata": "5hwSwuXFQUIkmaFCHsm0QW0UCcMHyr3CEe1dQvaRNkLn1/5Cq0ibwiw2ksAML9lB1N+SwuSyhUE3iVRB+IAEQfPILcJyAJJCOBhLwajEN0Jd4IBCk/0BwfgLD0Lkp+LCnMunQhy+48EONyRAMCgBQwOGt8CoFKfAiIlYQS7k6kG7cFDCbj4nwkgMuMLLKyVCvpa/QVHxxsJYk5lCVkW+wnHbbEH0hP/BV93CQggAacILpJXCLWvYQpWRyMA8wZ5BCBWxQHVP5kL94x3C+SU+Qt4WOMJk4LfBbGgPwnptRkIk4Jc/PBuLQo1FDsI075TAV3bXwl2LBcLhTCXC856mwufsgkKydYbCRRJuQsvKp0JgWo3CrzSLQmTGKMKBB6VC+Oqtwip68EFy4yvCPjTdPw==",
          "dtype": "f4"
         },
         "y": {
          "bdata": "/YhhwbCEZkJmiCtBrSOuQmR/+b9wqi4/fjEwwuG+3sLK9+8/MDrHQtuXpEH9tetBqN0iQDpEC0KCPuLAzByAQZbKxcH/JGzBm43+QWSB+EE1gnPCHPOgQgsZw0AO6upBv3ihwhta20Ju8ATD/0EVQv0W58InRKjCDO+RQKrPr8ERoeHBMUpzQjmawkHOqovC24GmQrO3RsLVGAjCAD+bQuDGE8LQMg7BmbQ4QgM9gELMzobAUl86wPiBj0KUEo7C3CrgwgOMIMLAsVJBqqjbQjTCdsKNXjlCby1CwptBbEI5BQNDyPXoQn3tacLdzX3CjojawfsTkUHjl7HCHH+bws9ZhcHvV3xCvRCvwvrhqkKDcNzCAm4sQqDqskL6wT1C6+CDwlRKbsFnSgRCrIGwwQ==",
          "dtype": "f4"
         },
         "z": {
          "bdata": "Az51QuVs6cK+R9nC4K6dwUqik0FExpZClA/BwmPUqcF7wyfC0e+QwXopl8KyAgNC7jG6wiFjqcGTVNrCBJuJQvEHAcOrQEbCnqDrwihXxULIvxbB/y+Ywp5mj8LN9tBBbKBowufr9cFefIJCIP3NQOS3jkGfSntCXO0TQ92N2ULp2h7CbZaTwOXI1cEkT8JCB9dsQv6WqkE8uaVCTdwWQr2kOkIKfglBJP8owneaWcJy6stACrFFQknYxUF4u3fCjf6PwmqMF8H8MulCQiafwurhJELtXehCHjbIQgswaMIhru9Bp5t6wc6ooMKRKNTAF5NTwj5hD8J1Ov/BHFgdwm8g/EGcDKdC6BggQpouA0L2qwRBrEfyQKBnh0IBjmRC0KqdQsOZFz98hCNCbt4Ewg==",
          "dtype": "f4"
         }
        }
       ],
       "layout": {
        "height": 700,
        "margin": {
         "b": 10,
         "l": 10,
         "r": 20,
         "t": 40
        },
        "scene": {
         "xaxis": {
          "title": {
           "text": "x"
          }
         },
         "yaxis": {
          "title": {
           "text": "y"
          }
         },
         "zaxis": {
          "title": {
           "text": "z"
          }
         }
        },
        "template": {
         "data": {
          "bar": [
           {
            "error_x": {
             "color": "#2a3f5f"
            },
            "error_y": {
             "color": "#2a3f5f"
            },
            "marker": {
             "line": {
              "color": "#E5ECF6",
              "width": 0.5
             },
             "pattern": {
              "fillmode": "overlay",
              "size": 10,
              "solidity": 0.2
             }
            },
            "type": "bar"
           }
          ],
          "barpolar": [
           {
            "marker": {
             "line": {
              "color": "#E5ECF6",
              "width": 0.5
             },
             "pattern": {
              "fillmode": "overlay",
              "size": 10,
              "solidity": 0.2
             }
            },
            "type": "barpolar"
           }
          ],
          "carpet": [
           {
            "aaxis": {
             "endlinecolor": "#2a3f5f",
             "gridcolor": "white",
             "linecolor": "white",
             "minorgridcolor": "white",
             "startlinecolor": "#2a3f5f"
            },
            "baxis": {
             "endlinecolor": "#2a3f5f",
             "gridcolor": "white",
             "linecolor": "white",
             "minorgridcolor": "white",
             "startlinecolor": "#2a3f5f"
            },
            "type": "carpet"
           }
          ],
          "choropleth": [
           {
            "colorbar": {
             "outlinewidth": 0,
             "ticks": ""
            },
            "type": "choropleth"
           }
          ],
          "contour": [
           {
            "colorbar": {
             "outlinewidth": 0,
             "ticks": ""
            },
            "colorscale": [
             [
              0,
              "#0d0887"
             ],
             [
              0.1111111111111111,
              "#46039f"
             ],
             [
              0.2222222222222222,
              "#7201a8"
             ],
             [
              0.3333333333333333,
              "#9c179e"
             ],
             [
              0.4444444444444444,
              "#bd3786"
             ],
             [
              0.5555555555555556,
              "#d8576b"
             ],
             [
              0.6666666666666666,
              "#ed7953"
             ],
             [
              0.7777777777777778,
              "#fb9f3a"
             ],
             [
              0.8888888888888888,
              "#fdca26"
             ],
             [
              1,
              "#f0f921"
             ]
            ],
            "type": "contour"
           }
          ],
          "contourcarpet": [
           {
            "colorbar": {
             "outlinewidth": 0,
             "ticks": ""
            },
            "type": "contourcarpet"
           }
          ],
          "heatmap": [
           {
            "colorbar": {
             "outlinewidth": 0,
             "ticks": ""
            },
            "colorscale": [
             [
              0,
              "#0d0887"
             ],
             [
              0.1111111111111111,
              "#46039f"
             ],
             [
              0.2222222222222222,
              "#7201a8"
             ],
             [
              0.3333333333333333,
              "#9c179e"
             ],
             [
              0.4444444444444444,
              "#bd3786"
             ],
             [
              0.5555555555555556,
              "#d8576b"
             ],
             [
              0.6666666666666666,
              "#ed7953"
             ],
             [
              0.7777777777777778,
              "#fb9f3a"
             ],
             [
              0.8888888888888888,
              "#fdca26"
             ],
             [
              1,
              "#f0f921"
             ]
            ],
            "type": "heatmap"
           }
          ],
          "histogram": [
           {
            "marker": {
             "pattern": {
              "fillmode": "overlay",
              "size": 10,
              "solidity": 0.2
             }
            },
            "type": "histogram"
           }
          ],
          "histogram2d": [
           {
            "colorbar": {
             "outlinewidth": 0,
             "ticks": ""
            },
            "colorscale": [
             [
              0,
              "#0d0887"
             ],
             [
              0.1111111111111111,
              "#46039f"
             ],
             [
              0.2222222222222222,
              "#7201a8"
             ],
             [
              0.3333333333333333,
              "#9c179e"
             ],
             [
              0.4444444444444444,
              "#bd3786"
             ],
             [
              0.5555555555555556,
              "#d8576b"
             ],
             [
              0.6666666666666666,
              "#ed7953"
             ],
             [
              0.7777777777777778,
              "#fb9f3a"
             ],
             [
              0.8888888888888888,
              "#fdca26"
             ],
             [
              1,
              "#f0f921"
             ]
            ],
            "type": "histogram2d"
           }
          ],
          "histogram2dcontour": [
           {
            "colorbar": {
             "outlinewidth": 0,
             "ticks": ""
            },
            "colorscale": [
             [
              0,
              "#0d0887"
             ],
             [
              0.1111111111111111,
              "#46039f"
             ],
             [
              0.2222222222222222,
              "#7201a8"
             ],
             [
              0.3333333333333333,
              "#9c179e"
             ],
             [
              0.4444444444444444,
              "#bd3786"
             ],
             [
              0.5555555555555556,
              "#d8576b"
             ],
             [
              0.6666666666666666,
              "#ed7953"
             ],
             [
              0.7777777777777778,
              "#fb9f3a"
             ],
             [
              0.8888888888888888,
              "#fdca26"
             ],
             [
              1,
              "#f0f921"
             ]
            ],
            "type": "histogram2dcontour"
           }
          ],
          "mesh3d": [
           {
            "colorbar": {
             "outlinewidth": 0,
             "ticks": ""
            },
            "type": "mesh3d"
           }
          ],
          "parcoords": [
           {
            "line": {
             "colorbar": {
              "outlinewidth": 0,
              "ticks": ""
             }
            },
            "type": "parcoords"
           }
          ],
          "pie": [
           {
            "automargin": true,
            "type": "pie"
           }
          ],
          "scatter": [
           {
            "fillpattern": {
             "fillmode": "overlay",
             "size": 10,
             "solidity": 0.2
            },
            "type": "scatter"
           }
          ],
          "scatter3d": [
           {
            "line": {
             "colorbar": {
              "outlinewidth": 0,
              "ticks": ""
             }
            },
            "marker": {
             "colorbar": {
              "outlinewidth": 0,
              "ticks": ""
             }
            },
            "type": "scatter3d"
           }
          ],
          "scattercarpet": [
           {
            "marker": {
             "colorbar": {
              "outlinewidth": 0,
              "ticks": ""
             }
            },
            "type": "scattercarpet"
           }
          ],
          "scattergeo": [
           {
            "marker": {
             "colorbar": {
              "outlinewidth": 0,
              "ticks": ""
             }
            },
            "type": "scattergeo"
           }
          ],
          "scattergl": [
           {
            "marker": {
             "colorbar": {
              "outlinewidth": 0,
              "ticks": ""
             }
            },
            "type": "scattergl"
           }
          ],
          "scattermap": [
           {
            "marker": {
             "colorbar": {
              "outlinewidth": 0,
              "ticks": ""
             }
            },
            "type": "scattermap"
           }
          ],
          "scattermapbox": [
           {
            "marker": {
             "colorbar": {
              "outlinewidth": 0,
              "ticks": ""
             }
            },
            "type": "scattermapbox"
           }
          ],
          "scatterpolar": [
           {
            "marker": {
             "colorbar": {
              "outlinewidth": 0,
              "ticks": ""
             }
            },
            "type": "scatterpolar"
           }
          ],
          "scatterpolargl": [
           {
            "marker": {
             "colorbar": {
              "outlinewidth": 0,
              "ticks": ""
             }
            },
            "type": "scatterpolargl"
           }
          ],
          "scatterternary": [
           {
            "marker": {
             "colorbar": {
              "outlinewidth": 0,
              "ticks": ""
             }
            },
            "type": "scatterternary"
           }
          ],
          "surface": [
           {
            "colorbar": {
             "outlinewidth": 0,
             "ticks": ""
            },
            "colorscale": [
             [
              0,
              "#0d0887"
             ],
             [
              0.1111111111111111,
              "#46039f"
             ],
             [
              0.2222222222222222,
              "#7201a8"
             ],
             [
              0.3333333333333333,
              "#9c179e"
             ],
             [
              0.4444444444444444,
              "#bd3786"
             ],
             [
              0.5555555555555556,
              "#d8576b"
             ],
             [
              0.6666666666666666,
              "#ed7953"
             ],
             [
              0.7777777777777778,
              "#fb9f3a"
             ],
             [
              0.8888888888888888,
              "#fdca26"
             ],
             [
              1,
              "#f0f921"
             ]
            ],
            "type": "surface"
           }
          ],
          "table": [
           {
            "cells": {
             "fill": {
              "color": "#EBF0F8"
             },
             "line": {
              "color": "white"
             }
            },
            "header": {
             "fill": {
              "color": "#C8D4E3"
             },
             "line": {
              "color": "white"
             }
            },
            "type": "table"
           }
          ]
         },
         "layout": {
          "annotationdefaults": {
           "arrowcolor": "#2a3f5f",
           "arrowhead": 0,
           "arrowwidth": 1
          },
          "autotypenumbers": "strict",
          "coloraxis": {
           "colorbar": {
            "outlinewidth": 0,
            "ticks": ""
           }
          },
          "colorscale": {
           "diverging": [
            [
             0,
             "#8e0152"
            ],
            [
             0.1,
             "#c51b7d"
            ],
            [
             0.2,
             "#de77ae"
            ],
            [
             0.3,
             "#f1b6da"
            ],
            [
             0.4,
             "#fde0ef"
            ],
            [
             0.5,
             "#f7f7f7"
            ],
            [
             0.6,
             "#e6f5d0"
            ],
            [
             0.7,
             "#b8e186"
            ],
            [
             0.8,
             "#7fbc41"
            ],
            [
             0.9,
             "#4d9221"
            ],
            [
             1,
             "#276419"
            ]
           ],
           "sequential": [
            [
             0,
             "#0d0887"
            ],
            [
             0.1111111111111111,
             "#46039f"
            ],
            [
             0.2222222222222222,
             "#7201a8"
            ],
            [
             0.3333333333333333,
             "#9c179e"
            ],
            [
             0.4444444444444444,
             "#bd3786"
            ],
            [
             0.5555555555555556,
             "#d8576b"
            ],
            [
             0.6666666666666666,
             "#ed7953"
            ],
            [
             0.7777777777777778,
             "#fb9f3a"
            ],
            [
             0.8888888888888888,
             "#fdca26"
            ],
            [
             1,
             "#f0f921"
            ]
           ],
           "sequentialminus": [
            [
             0,
             "#0d0887"
            ],
            [
             0.1111111111111111,
             "#46039f"
            ],
            [
             0.2222222222222222,
             "#7201a8"
            ],
            [
             0.3333333333333333,
             "#9c179e"
            ],
            [
             0.4444444444444444,
             "#bd3786"
            ],
            [
             0.5555555555555556,
             "#d8576b"
            ],
            [
             0.6666666666666666,
             "#ed7953"
            ],
            [
             0.7777777777777778,
             "#fb9f3a"
            ],
            [
             0.8888888888888888,
             "#fdca26"
            ],
            [
             1,
             "#f0f921"
            ]
           ]
          },
          "colorway": [
           "#636efa",
           "#EF553B",
           "#00cc96",
           "#ab63fa",
           "#FFA15A",
           "#19d3f3",
           "#FF6692",
           "#B6E880",
           "#FF97FF",
           "#FECB52"
          ],
          "font": {
           "color": "#2a3f5f"
          },
          "geo": {
           "bgcolor": "white",
           "lakecolor": "white",
           "landcolor": "#E5ECF6",
           "showlakes": true,
           "showland": true,
           "subunitcolor": "white"
          },
          "hoverlabel": {
           "align": "left"
          },
          "hovermode": "closest",
          "mapbox": {
           "style": "light"
          },
          "paper_bgcolor": "white",
          "plot_bgcolor": "#E5ECF6",
          "polar": {
           "angularaxis": {
            "gridcolor": "white",
            "linecolor": "white",
            "ticks": ""
           },
           "bgcolor": "#E5ECF6",
           "radialaxis": {
            "gridcolor": "white",
            "linecolor": "white",
            "ticks": ""
           }
          },
          "scene": {
           "xaxis": {
            "backgroundcolor": "#E5ECF6",
            "gridcolor": "white",
            "gridwidth": 2,
            "linecolor": "white",
            "showbackground": true,
            "ticks": "",
            "zerolinecolor": "white"
           },
           "yaxis": {
            "backgroundcolor": "#E5ECF6",
            "gridcolor": "white",
            "gridwidth": 2,
            "linecolor": "white",
            "showbackground": true,
            "ticks": "",
            "zerolinecolor": "white"
           },
           "zaxis": {
            "backgroundcolor": "#E5ECF6",
            "gridcolor": "white",
            "gridwidth": 2,
            "linecolor": "white",
            "showbackground": true,
            "ticks": "",
            "zerolinecolor": "white"
           }
          },
          "shapedefaults": {
           "line": {
            "color": "#2a3f5f"
           }
          },
          "ternary": {
           "aaxis": {
            "gridcolor": "white",
            "linecolor": "white",
            "ticks": ""
           },
           "baxis": {
            "gridcolor": "white",
            "linecolor": "white",
            "ticks": ""
           },
           "bgcolor": "#E5ECF6",
           "caxis": {
            "gridcolor": "white",
            "linecolor": "white",
            "ticks": ""
           }
          },
          "title": {
           "x": 0.05
          },
          "xaxis": {
           "automargin": true,
           "gridcolor": "white",
           "linecolor": "white",
           "ticks": "",
           "title": {
            "standoff": 15
           },
           "zerolinecolor": "white",
           "zerolinewidth": 2
          },
          "yaxis": {
           "automargin": true,
           "gridcolor": "white",
           "linecolor": "white",
           "ticks": "",
           "title": {
            "standoff": 15
           },
           "zerolinecolor": "white",
           "zerolinewidth": 2
          }
         }
        },
        "title": {
         "text": "3D Chroma Vector Store Visualization"
        },
        "width": 900
       }
      },
      "image/png": "[encoded data removed]"
     },
     "metadata": {},
     "output_type": "display_data"
    }
   ],
   "source": [
    "tsne = TSNE(n_components=3, random_state=42)\n",
    "reduced_vectors = tsne.fit_transform(vectors)\n",
    "\n",
    "fig = go.Figure(data=[go.Scatter3d(\n",
    "    x=reduced_vectors[:, 0],\n",
    "    y=reduced_vectors[:, 1],\n",
    "    z=reduced_vectors[:, 2],\n",
    "    mode='markers',\n",
    "    marker=dict(size=5, color=colors, opacity=0.8),\n",
    "    text=[f\"Type: {t}<br>Text: {d[:100]}...\" for t, d in zip(doc_types, documents)],\n",
    "    hoverinfo='text'\n",
    ")])\n",
    "\n",
    "fig.update_layout(\n",
    "    title='3D Chroma Vector Store Visualization',\n",
    "    scene=dict(xaxis_title='x', yaxis_title='y', zaxis_title='z'),\n",
    "    width=900,\n",
    "    height=700,\n",
    "    margin=dict(r=20, b=10, l=10, t=40)\n",
    ")\n",
    "\n",
    "fig.show()"
   ]
  },
  {
   "cell_type": "code",
   "execution_count": 28,
   "id": "1d31d99e-8fec-43a0-aa47-19cbc7a7d128",
   "metadata": {},
   "outputs": [],
   "source": [
    "llm = ChatOpenAI(temperature=0.7, model_name=MODEL)\n",
    "\n",
    "memory = ConversationBufferMemory(memory_key='chat_history', return_messages=True)\n",
    "\n",
    "retriever = vectorstore.as_retriever(search_kwargs={\"k\": 25})\n",
    "\n",
    "conversation_chain = ConversationalRetrievalChain.from_llm(llm=llm, retriever=retriever, memory=memory)"
   ]
  },
  {
   "cell_type": "code",
   "execution_count": 29,
   "id": "f0252574-9768-478a-9317-242d5c4fb6fa",
   "metadata": {},
   "outputs": [],
   "source": [
    "memory = ConversationBufferMemory(memory_key='chat_history', return_messages=True)\n",
    "\n",
    "conversation_chain = ConversationalRetrievalChain.from_llm(llm=llm, retriever=retriever, memory=memory)"
   ]
  },
  {
   "cell_type": "markdown",
   "id": "9e462b2d-c281-4ec8-a5fb-a327b6db3626",
   "metadata": {},
   "source": [
    "# Wrapping that in a function"
   ]
  },
  {
   "cell_type": "code",
   "execution_count": 30,
   "id": "0f476d26-be50-4679-8838-aae54eadab7a",
   "metadata": {},
   "outputs": [],
   "source": [
    "def chat(question, history):\n",
    "    result = conversation_chain.invoke({\"question\": question})\n",
    "    return result[\"answer\"]"
   ]
  },
  {
   "cell_type": "markdown",
   "id": "ee1b69ea-6c1e-441f-a549-e9740e7c1b73",
   "metadata": {},
   "source": [
    "# UI"
   ]
  },
  {
   "cell_type": "code",
   "execution_count": 31,
   "id": "abc1bfcb-6b25-4fe7-b714-0d05fc94fb24",
   "metadata": {},
   "outputs": [
    {
     "name": "stdout",
     "output_type": "stream",
     "text": [
      "* Running on local URL:  http://127.0.0.1:7862\n",
      "* To create a public link, set `share=True` in `launch()`.\n"
     ]
    },
    {
     "data": {
      "text/html": [
       "<div><iframe src=\"http://127.0.0.1:7862/\" width=\"100%\" height=\"500\" allow=\"autoplay; camera; microphone; clipboard-read; clipboard-write;\" frameborder=\"0\" allowfullscreen></iframe></div>"
      ],
      "text/plain": [
       "<IPython.core.display.HTML object>"
      ]
     },
     "metadata": {},
     "output_type": "display_data"
    }
   ],
   "source": [
    "view = gr.ChatInterface(chat, type=\"messages\").launch(inbrowser=True)"
   ]
  }
 ],
 "metadata": {
  "kernelspec": {
   "display_name": "Python 3 (ipykernel)",
   "language": "python",
   "name": "python3"
  },
  "language_info": {
   "codemirror_mode": {
    "name": "ipython",
    "version": 3
   },
   "file_extension": ".py",
   "mimetype": "text/x-python",
   "name": "python",
   "nbconvert_exporter": "python",
   "pygments_lexer": "ipython3",
   "version": "3.11.13"
  }
 },
 "nbformat": 4,
 "nbformat_minor": 5
}
