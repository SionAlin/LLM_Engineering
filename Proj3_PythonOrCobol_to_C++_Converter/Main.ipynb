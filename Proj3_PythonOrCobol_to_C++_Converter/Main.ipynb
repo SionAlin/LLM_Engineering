{
 "cells": [
  {
   "cell_type": "markdown",
   "id": "3c728e27-1394-4e40-b812-dbd211dcbcb6",
   "metadata": {},
   "source": [
    "# Imports"
   ]
  },
  {
   "cell_type": "code",
   "execution_count": 86,
   "id": "9df32683-1a8b-468d-84a7-0b92d41d10c5",
   "metadata": {},
   "outputs": [],
   "source": [
    "import os\n",
    "import io\n",
    "import sys\n",
    "import ollama\n",
    "from dotenv import load_dotenv\n",
    "from openai import OpenAI\n",
    "import google.generativeai\n",
    "import anthropic\n",
    "from IPython.display import Markdown, display, update_display\n",
    "import gradio as gr\n",
    "import subprocess"
   ]
  },
  {
   "cell_type": "markdown",
   "id": "37bf4ed9-9d6e-48cb-9496-0e287daaab0a",
   "metadata": {},
   "source": [
    "# Environment"
   ]
  },
  {
   "cell_type": "code",
   "execution_count": 87,
   "id": "f8a3ebfd-d373-48b5-81b3-41e3c363eabb",
   "metadata": {},
   "outputs": [],
   "source": [
    "load_dotenv(override=True)\n",
    "os.environ['OPENAI_API_KEY'] = os.getenv('OPENAI_API_KEY', 'your-key-if-not-using-env')"
   ]
  },
  {
   "cell_type": "markdown",
   "id": "1136078b-4757-4869-b282-955ad297c801",
   "metadata": {},
   "source": [
    "# Initialize"
   ]
  },
  {
   "cell_type": "code",
   "execution_count": 88,
   "id": "b069e7a4-8048-4201-bbbf-0c5485753153",
   "metadata": {},
   "outputs": [],
   "source": [
    "openai = OpenAI()\n",
    "\n",
    "MODEL_GPT_4O = \"gpt-4o\"\n",
    "MODEL_GPT_4_TURBO = \"gpt-4-turbo\"\n",
    "MODEL_GPT_35_TURBO = \"gpt-3.5-turbo\"\n",
    "MODEL_LLAMA = 'llama3.2'"
   ]
  },
  {
   "cell_type": "markdown",
   "id": "1b37c489-148c-4e13-a78e-ea4fce1fe320",
   "metadata": {},
   "source": [
    "# Prompt"
   ]
  },
  {
   "cell_type": "code",
   "execution_count": 89,
   "id": "7b7c5b00-8bab-452d-b759-d96281d4c89a",
   "metadata": {},
   "outputs": [],
   "source": [
    "def system_prompt_for(language):\n",
    "    system_prompt = f\"You are an assistant that reimplements {language} code in high performance C++. \"\n",
    "    system_prompt += \"Respond only with C++ code; use comments sparingly and do not provide any explanation other than occasional comments. \"\n",
    "    system_prompt += \"The C++ response needs to produce an identical output in the fastest possible time.\"\n",
    "    return system_prompt"
   ]
  },
  {
   "cell_type": "code",
   "execution_count": 91,
   "id": "726246cc-9619-4c3f-998f-08ab9435ad82",
   "metadata": {},
   "outputs": [],
   "source": [
    "def user_prompt_for(language):\n",
    "    user_prompt = f\"Rewrite this {language} code in C++ with the fastest possible implementation that produces identical output in the least time. \"\n",
    "    user_prompt += \"Respond only with C++ code; do not explain your work other than a few comments. \"\n",
    "    user_prompt += \"Pay attention to number types to ensure no int overflows. Remember to #include all necessary C++ packages such as iomanip.\\n\\n\"\n",
    "    user_prompt += language\n",
    "    return user_prompt"
   ]
  },
  {
   "cell_type": "code",
   "execution_count": 92,
   "id": "495103c7-198b-48e6-b317-7b5b30c4a3e1",
   "metadata": {},
   "outputs": [],
   "source": [
    "def messages_for(language):\n",
    "    return [\n",
    "        {\"role\": \"system\", \"content\": system_prompt_for(language)},\n",
    "        {\"role\": \"user\", \"content\": user_prompt_for(language)}\n",
    "    ]"
   ]
  },
  {
   "cell_type": "markdown",
   "id": "f6f972d2-decd-4732-ba50-a8d644807f59",
   "metadata": {},
   "source": [
    "# Write to a file called optimized.cpp"
   ]
  },
  {
   "cell_type": "code",
   "execution_count": 93,
   "id": "879166f7-7d5a-4c00-b126-1c15952d6675",
   "metadata": {},
   "outputs": [],
   "source": [
    "def write_output(cpp):\n",
    "    code = cpp.replace(\"```cpp\",\"\").replace(\"```\",\"\")\n",
    "    with open(\"optimized.cpp\", \"w\") as f:\n",
    "        f.write(code)"
   ]
  },
  {
   "cell_type": "code",
   "execution_count": 94,
   "id": "2ac0de8b-07db-4424-bc0a-8eb9924eb24f",
   "metadata": {},
   "outputs": [],
   "source": [
    "def stream_gpt(language, OPENAI_MODEL):    \n",
    "    stream = openai.chat.completions.create(model=OPENAI_MODEL, messages=messages_for(language), stream=True)\n",
    "    reply = \"\"\n",
    "    for chunk in stream:\n",
    "        fragment = chunk.choices[0].delta.content or \"\"\n",
    "        reply += fragment\n",
    "        yield reply.replace('```cpp\\n','').replace('```','')"
   ]
  },
  {
   "cell_type": "code",
   "execution_count": 95,
   "id": "4f6905d4-5ed4-4b6e-a005-8feccdf317fc",
   "metadata": {},
   "outputs": [],
   "source": [
    "def optimize(language, model):\n",
    "    if model==MODEL_GPT_4O or model==MODEL_GPT_4_TURBO or model==MODEL_GPT_35_TURBO:\n",
    "        result = stream_gpt(language, model)\n",
    "    else:\n",
    "        raise ValueError(\"Unknown model\")\n",
    "    for stream_so_far in result:\n",
    "        yield stream_so_far "
   ]
  },
  {
   "cell_type": "markdown",
   "id": "9a79912f-351a-466a-b772-4492e1a190f4",
   "metadata": {},
   "source": [
    "# Execute"
   ]
  },
  {
   "cell_type": "code",
   "execution_count": 96,
   "id": "cdff8d3e-9e30-4748-a7fb-34104f1fa045",
   "metadata": {},
   "outputs": [],
   "source": [
    "def execute_python(code):\n",
    "    try:\n",
    "        output = io.StringIO()\n",
    "        sys.stdout = output\n",
    "        exec(code)\n",
    "    finally:\n",
    "        sys.stdout = sys.__stdout__\n",
    "    return output.getvalue()"
   ]
  },
  {
   "cell_type": "code",
   "execution_count": 97,
   "id": "8833bbb7-29b2-4691-ba58-3a3409d65533",
   "metadata": {},
   "outputs": [],
   "source": [
    "def execute_cobol(code):\n",
    "    import subprocess, tempfile, os\n",
    "\n",
    "    with tempfile.TemporaryDirectory() as tmpdir:\n",
    "        cobol_file = os.path.join(tmpdir, \"program.cob\")\n",
    "        exe_file = os.path.join(tmpdir, \"program.exe\" if os.name == \"nt\" else \"program\")\n",
    "\n",
    "        with open(cobol_file, \"w\") as f:\n",
    "            f.write(code)\n",
    "\n",
    "        compile_cmd = [\"cobc\", \"-x\", cobol_file, \"-o\", exe_file]\n",
    "        try:\n",
    "            subprocess.run(compile_cmd, check=True, capture_output=True, text=True)\n",
    "        except subprocess.CalledProcessError as e:\n",
    "            return f\"Compilation error:\\n{e.stderr}\"\n",
    "\n",
    "        try:\n",
    "            result = subprocess.run([exe_file], capture_output=True, text=True, check=True)\n",
    "            return result.stdout\n",
    "        except subprocess.CalledProcessError as e:\n",
    "            return f\"Runtime error:\\n{e.stderr}\""
   ]
  },
  {
   "cell_type": "code",
   "execution_count": 98,
   "id": "76fc611a-b113-419b-8615-cce5f3ef26cf",
   "metadata": {},
   "outputs": [],
   "source": [
    "def execute_cpp(code):\n",
    "        import shutil\n",
    "\n",
    "        write_output(code)\n",
    "    \n",
    "        compiler = shutil.which(\"clang++\") or shutil.which(\"g++\")\n",
    "        if not compiler:\n",
    "            return \"Error: No C++ compiler (clang++ or g++) found in PATH.\"\n",
    "    \n",
    "        exe_name = \"optimized.exe\" if os.name == \"nt\" else \"./optimized\"\n",
    "    \n",
    "        compile_cmd = [compiler, \"-Ofast\", \"-std=c++17\", \"-o\", \"optimized\", \"optimized.cpp\"]\n",
    "        run_cmd = [exe_name]\n",
    "    \n",
    "        try:\n",
    "            compile_result = subprocess.run(compile_cmd, check=True, text=True, capture_output=True)\n",
    "            run_result = subprocess.run(run_cmd, check=True, text=True, capture_output=True)\n",
    "            return run_result.stdout\n",
    "        except subprocess.CalledProcessError as e:\n",
    "            return f\"An error occurred:\\n{e.stderr}\""
   ]
  },
  {
   "cell_type": "code",
   "execution_count": 99,
   "id": "8a85caab-a06c-4b43-92a2-8aebd7e1fc41",
   "metadata": {},
   "outputs": [],
   "source": [
    "def execute_language(code, lang):\n",
    "    if lang == \"Python\":\n",
    "        return execute_python(code)\n",
    "    elif lang == \"Cobol\":\n",
    "        return execute_cobol(code)\n",
    "    else:\n",
    "        return \"Unsupported language selected.\""
   ]
  },
  {
   "cell_type": "markdown",
   "id": "cc4a0a49-e863-45df-93f6-a731d78e1283",
   "metadata": {},
   "source": [
    "# UI"
   ]
  },
  {
   "cell_type": "code",
   "execution_count": 100,
   "id": "186848e7-b2d1-4661-8ada-59f33879ada1",
   "metadata": {},
   "outputs": [
    {
     "data": {
      "text/html": [
       "<div><iframe src=\"http://127.0.0.1:7881/\" width=\"100%\" height=\"500\" allow=\"autoplay; camera; microphone; clipboard-read; clipboard-write;\" frameborder=\"0\" allowfullscreen></iframe></div>"
      ],
      "text/plain": [
       "<IPython.core.display.HTML object>"
      ]
     },
     "metadata": {},
     "output_type": "display_data"
    },
    {
     "data": {
      "text/plain": []
     },
     "execution_count": 100,
     "metadata": {},
     "output_type": "execute_result"
    }
   ],
   "source": [
    "MODEL_OPTIONS = [\n",
    "    MODEL_GPT_4O,\n",
    "    MODEL_GPT_4_TURBO,\n",
    "    MODEL_GPT_35_TURBO\n",
    "]\n",
    "\n",
    "with gr.Blocks(css=css) as ui:\n",
    "    language = gr.Dropdown([\"Python\", \"Cobol\"], label=\"Select language\", value=\"Python\")\n",
    "    gr.Markdown(\"## Convert code from Python to C++\")\n",
    "    \n",
    "    with gr.Row():\n",
    "        language_code = gr.Textbox(label=\"Language code:\", lines=10)\n",
    "        cpp = gr.Textbox(label=\"C++ code:\", lines=10)\n",
    "    \n",
    "    with gr.Row():\n",
    "        model = gr.Dropdown(MODEL_OPTIONS, label=\"Select model\", value=MODEL_GPT_4O)\n",
    "    \n",
    "    with gr.Row():\n",
    "        convert = gr.Button(\"Convert code\")\n",
    "    \n",
    "    with gr.Row():\n",
    "        language_run = gr.Button(\"Run Selected Language\")\n",
    "        cpp_run = gr.Button(\"Run C++\")\n",
    "    \n",
    "    with gr.Row():\n",
    "        language_out = gr.TextArea(label=\"Language Output\", elem_classes=[\"python\"])\n",
    "        cpp_out = gr.TextArea(label=\"C++ result:\", elem_classes=[\"cpp\"])\n",
    "\n",
    "    convert.click(optimize, inputs=[language_code, model], outputs=[cpp])\n",
    "    language_run.click(execute_language, inputs=[language_code, language], outputs=[language_out])\n",
    "    cpp_run.click(execute_cpp, inputs=[cpp], outputs=[cpp_out])\n",
    "\n",
    "ui.launch(inbrowser=True)"
   ]
  }
 ],
 "metadata": {
  "kernelspec": {
   "display_name": "Python 3 (ipykernel)",
   "language": "python",
   "name": "python3"
  },
  "language_info": {
   "codemirror_mode": {
    "name": "ipython",
    "version": 3
   },
   "file_extension": ".py",
   "mimetype": "text/x-python",
   "name": "python",
   "nbconvert_exporter": "python",
   "pygments_lexer": "ipython3",
   "version": "3.11.13"
  }
 },
 "nbformat": 4,
 "nbformat_minor": 5
}
