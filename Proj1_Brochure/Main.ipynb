{
 "cells": [
  {
   "cell_type": "code",
   "execution_count": 16,
   "id": "56736a93-9291-4ddc-ad0e-7cfe0900cce9",
   "metadata": {},
   "outputs": [],
   "source": [
    "# Imports\n",
    "\n",
    "import os\n",
    "import requests\n",
    "import json\n",
    "import ollama\n",
    "from typing import List\n",
    "from dotenv import load_dotenv\n",
    "from bs4 import BeautifulSoup\n",
    "from IPython.display import Markdown, display, update_display\n",
    "from openai import OpenAI\n",
    "import gradio as gr"
   ]
  },
  {
   "cell_type": "code",
   "execution_count": 2,
   "id": "fb3fe63b-7444-44fc-98a5-f470b2dbdf68",
   "metadata": {},
   "outputs": [
    {
     "name": "stdout",
     "output_type": "stream",
     "text": [
      "OpenAI API Key exists and begins sk-proj-\n"
     ]
    }
   ],
   "source": [
    "# Initialization\n",
    "\n",
    "load_dotenv(override = True)\n",
    "\n",
    "openai_api_key = os.getenv('OPENAI_API_KEY')\n",
    "if openai_api_key:\n",
    "    print(f\"OpenAI API Key exists and begins {openai_api_key[:8]}\")\n",
    "else:\n",
    "    print(\"OpenAI API Key not set\")\n"
   ]
  },
  {
   "cell_type": "code",
   "execution_count": 22,
   "id": "a78adf3a-6544-4df3-ab8c-b43a4bc108db",
   "metadata": {},
   "outputs": [],
   "source": [
    "# Models\n",
    "\n",
    "MODEL_GPT_4O = \"gpt-4o\"\n",
    "MODEL_GPT_4_TURBO = \"gpt-4-turbo\"\n",
    "MODEL_GPT_35_TURBO = \"gpt-3.5-turbo\"\n",
    "MODEL_LLAMA = 'llama3.2'\n",
    "\n",
    "openai = OpenAI()"
   ]
  },
  {
   "cell_type": "code",
   "execution_count": 4,
   "id": "2badd5ed-ab55-4152-a5cb-7925d016abfb",
   "metadata": {},
   "outputs": [],
   "source": [
    "# A class to represent a Webpage\n",
    "\n",
    "# Some websites need you to use proper headers when fetching them:\n",
    "headers = {\n",
    " \"User-Agent\": \"Mozilla/5.0 (Windows NT 10.0; Win64; x64) AppleWebKit/537.36 (KHTML, like Gecko) Chrome/117.0.0.0 Safari/537.36\"\n",
    "}\n",
    "\n",
    "class Website:\n",
    "    \"\"\"\n",
    "    A utility class to represent a Website that we have scraped, now with links\n",
    "    \"\"\"\n",
    "\n",
    "    def __init__(self, url):\n",
    "        self.url = url\n",
    "        response = requests.get(url, headers=headers)\n",
    "        self.body = response.content\n",
    "        soup = BeautifulSoup(self.body, 'html.parser')\n",
    "        self.title = soup.title.string if soup.title else \"No title found\"\n",
    "        if soup.body:\n",
    "            for irrelevant in soup.body([\"script\", \"style\", \"img\", \"input\"]):\n",
    "                irrelevant.decompose()\n",
    "            self.text = soup.body.get_text(separator=\"\\n\", strip=True)\n",
    "        else:\n",
    "            self.text = \"\"\n",
    "        links = [link.get('href') for link in soup.find_all('a')]\n",
    "        self.links = [link for link in links if link]\n",
    "\n",
    "    def get_contents(self):\n",
    "        return f\"Webpage Title:\\n{self.title}\\nWebpage Contents:\\n{self.text}\\n\\n\""
   ]
  },
  {
   "cell_type": "code",
   "execution_count": 33,
   "id": "dca562aa-7ae2-4f38-81ed-1488b5df831f",
   "metadata": {},
   "outputs": [],
   "source": [
    "# System prompt for links\n",
    "\n",
    "link_system_prompt = \"You are provided with a list of links found on a webpage. \\\n",
    "You are able to decide which of the links would be most relevant to include in a brochure about the company, \\\n",
    "such as links to an About page, or a Company page, or Careers/Jobs pages.\\n\"\n",
    "link_system_prompt += \"You should respond in JSON as in this example:\"\n",
    "link_system_prompt += \"\"\"\n",
    "{\n",
    "    \"links\": [\n",
    "        {\"type\": \"about page\", \"url\": \"https://full.url/goes/here/about\"},\n",
    "        {\"type\": \"contact page\", \"url\": \"https://example.com/contact\"}\n",
    "    ]\n",
    "}\n",
    "\"\"\""
   ]
  },
  {
   "cell_type": "code",
   "execution_count": 6,
   "id": "8e7cbece-34c0-434c-bfab-a6fec0f4e1b9",
   "metadata": {},
   "outputs": [],
   "source": [
    "# User prompt\n",
    "\n",
    "def get_user_prompt(website):\n",
    "    user_prompt = f\"Here is the list of links on the website of {website.url} - \"\n",
    "    user_prompt += \"please decide which of these are relevant web links for a brochure about the company, respond with the full https URL in JSON format. \\\n",
    "Do not include Terms of Service, Privacy, email links.\\n\"\n",
    "    user_prompt += \"Links (some might be relative links):\\n\"\n",
    "    user_prompt += \"\\n\".join(website.links)\n",
    "    return user_prompt"
   ]
  },
  {
   "cell_type": "code",
   "execution_count": 8,
   "id": "9a7e3c7e-4d79-48a4-9641-81af5933c44f",
   "metadata": {},
   "outputs": [],
   "source": [
    "# Openai links\n",
    "\n",
    "def get_links(url, openai_model):\n",
    "    website = Website(url)\n",
    "    response = openai.chat.completions.create(\n",
    "        model=openai_model,\n",
    "        messages=[\n",
    "            {\"role\": \"system\", \"content\": link_system_prompt},\n",
    "            {\"role\": \"user\", \"content\": get_user_prompt(website)}\n",
    "        ],\n",
    "        response_format={\"type\": \"json_object\"}\n",
    "    )\n",
    "    result = response.choices[0].message.content\n",
    "    return json.loads(result)"
   ]
  },
  {
   "cell_type": "code",
   "execution_count": 37,
   "id": "1d8957dd-5a4b-4ddb-9a28-7dc7e24803be",
   "metadata": {},
   "outputs": [],
   "source": [
    "# All Details\n",
    "\n",
    "def get_all_details(url):\n",
    "    result = \"Landing page:\\n\"\n",
    "    result += Website(url).get_contents()\n",
    "    links = get_links(url, MODEL_GPT_4O_MINI)\n",
    "    for link in links[\"links\"]:\n",
    "        result += f\"\\n\\n{link['type']}\\n\"\n",
    "        result += Website(link[\"url\"]).get_contents()\n",
    "    return result"
   ]
  },
  {
   "cell_type": "code",
   "execution_count": 36,
   "id": "fe991afb-8f71-441a-b305-664f618edfe9",
   "metadata": {},
   "outputs": [],
   "source": [
    "# System prompt for brochure gen\n",
    "\n",
    "def system_prompt(lang):\n",
    "    return f\"You are an assistant that analyzes the contents of several relevant pages from a company website \\\n",
    "    and creates a short brochure about the company for prospective customers, investors and recruits. Respond in markdown.\\\n",
    "    Include details of company culture, customers and careers/jobs if you have the information.\\\n",
    "    And very important, generate it in {lang}\""
   ]
  },
  {
   "cell_type": "code",
   "execution_count": 11,
   "id": "231cb024-99d4-4061-989c-7ef5de435f41",
   "metadata": {},
   "outputs": [],
   "source": [
    "# User prompt for brochure gen\n",
    "\n",
    "def get_brochure_user_prompt(company_name, url):\n",
    "    user_prompt = f\"You are looking at a company called: {company_name}\\n\"\n",
    "    user_prompt += f\"Here are the contents of its landing page and other relevant pages; use this information to build a short brochure of the company in markdown.\\n\"\n",
    "    user_prompt += get_all_details(url)\n",
    "    user_prompt = user_prompt[:5_000] # Truncate if more than 5,000 characters\n",
    "    return user_prompt"
   ]
  },
  {
   "cell_type": "code",
   "execution_count": 35,
   "id": "4b7fdf2f-2c84-4fa8-b4f7-c5061f41b222",
   "metadata": {},
   "outputs": [],
   "source": [
    "# Create Brochure\n",
    "\n",
    "def create_brochure(company_name, url, lang, model):\n",
    "    if model != MODEL_LLAMA:\n",
    "        response = openai.chat.completions.create(\n",
    "            model = model,\n",
    "            messages=[\n",
    "                {\"role\": \"system\", \"content\": system_prompt(lang)},\n",
    "                {\"role\": \"user\", \"content\": get_brochure_user_prompt(company_name, url)}\n",
    "              ]\n",
    "        )\n",
    "        result = response.choices[0].message.content\n",
    "    else:\n",
    "        response = ollama.chat(\n",
    "            model = model,\n",
    "            messages=[\n",
    "                {\"role\": \"system\", \"content\": system_prompt(lang)},\n",
    "                {\"role\": \"user\", \"content\": get_brochure_user_prompt(company_name, url)}\n",
    "              ]\n",
    "        )\n",
    "        result = response[\"message\"][\"content\"]\n",
    "    return result"
   ]
  },
  {
   "cell_type": "code",
   "execution_count": 39,
   "id": "93b75372-6c11-48f1-a09e-458ddb6ca47a",
   "metadata": {},
   "outputs": [
    {
     "name": "stdout",
     "output_type": "stream",
     "text": [
      "* Running on local URL:  http://127.0.0.1:7881\n",
      "* To create a public link, set `share=True` in `launch()`.\n"
     ]
    },
    {
     "data": {
      "text/html": [
       "<div><iframe src=\"http://127.0.0.1:7881/\" width=\"100%\" height=\"500\" allow=\"autoplay; camera; microphone; clipboard-read; clipboard-write;\" frameborder=\"0\" allowfullscreen></iframe></div>"
      ],
      "text/plain": [
       "<IPython.core.display.HTML object>"
      ]
     },
     "metadata": {},
     "output_type": "display_data"
    },
    {
     "data": {
      "text/plain": []
     },
     "execution_count": 39,
     "metadata": {},
     "output_type": "execute_result"
    },
    {
     "name": "stdout",
     "output_type": "stream",
     "text": [
      "Found links: {'links': [{'type': 'home page', 'url': 'https://www.allelitewrestling.com'}, {'type': 'about page', 'url': 'https://www.allelitewrestling.com/about-aew'}, {'type': 'events page', 'url': 'https://www.allelitewrestling.com/aew-events'}, {'type': 'roster page', 'url': 'https://www.allelitewrestling.com/aew-roster'}, {'type': 'careers page', 'url': 'https://www.teamworkonline.com/mixed-martial-arts-jobs/all-elite-wrestling-jobs/all-elite-wrestling-jobs'}, {'type': 'press releases', 'url': 'https://www.allelitewrestling.com/press-releases'}, {'type': 'partners page', 'url': 'https://www.allelitewrestling.com/partners'}]}\n",
      "Found links: {'links': [{'type': 'home page', 'url': 'https://www.allelitewrestling.com'}, {'type': 'about page', 'url': 'https://www.allelitewrestling.com/about-aew'}, {'type': 'careers page', 'url': 'https://www.teamworkonline.com/mixed-martial-arts-jobs/all-elite-wrestling-jobs/all-elite-wrestling-jobs'}, {'type': 'events page', 'url': 'https://www.allelitewrestling.com/aew-events'}, {'type': 'press releases page', 'url': 'https://www.allelitewrestling.com/press-releases'}, {'type': 'partners page', 'url': 'https://www.allelitewrestling.com/partners'}, {'type': 'roster page', 'url': 'https://www.allelitewrestling.com/aew-roster'}]}\n"
     ]
    }
   ],
   "source": [
    " # Gradio UI\n",
    "\n",
    "MODEL_OPTIONS = [\n",
    "    MODEL_GPT_4O,\n",
    "    MODEL_GPT_4_TURBO,\n",
    "    MODEL_GPT_35_TURBO,\n",
    "    MODEL_LLAMA\n",
    "]\n",
    "\n",
    "with gr.Blocks() as ui:\n",
    "    \n",
    "    with gr.Row():\n",
    "        company_name = gr.Textbox(label=\"Company Name\", placeholder=\"e.g., OpenAI\")\n",
    "        url = gr.Textbox(label=\"Website URL\", placeholder=\"https://example.com\")\n",
    "    \n",
    "    with gr.Row():\n",
    "        lang = gr.Textbox(label=\"Language\", value=\"English\")\n",
    "        model = gr.Dropdown(choices=MODEL_OPTIONS, value=\"gpt-4o\", label=\"Model\")\n",
    "\n",
    "    brochure_output = gr.Markdown()\n",
    "\n",
    "    with gr.Row():\n",
    "        generate_btn = gr.Button(\"Generate Brochure\")\n",
    "        clear_btn = gr.Button(\"Clear\")\n",
    "\n",
    "    generate_btn.click(\n",
    "        fn=create_brochure,\n",
    "        inputs=[company_name, url, lang, model],\n",
    "        outputs=brochure_output\n",
    "    )\n",
    "    \n",
    "    clear_btn.click(lambda: \"\", None, brochure_output, queue=False)\n",
    "\n",
    "ui.launch(inbrowser=True)"
   ]
  }
 ],
 "metadata": {
  "kernelspec": {
   "display_name": "Python 3 (ipykernel)",
   "language": "python",
   "name": "python3"
  },
  "language_info": {
   "codemirror_mode": {
    "name": "ipython",
    "version": 3
   },
   "file_extension": ".py",
   "mimetype": "text/x-python",
   "name": "python",
   "nbconvert_exporter": "python",
   "pygments_lexer": "ipython3",
   "version": "3.11.13"
  }
 },
 "nbformat": 4,
 "nbformat_minor": 5
}
