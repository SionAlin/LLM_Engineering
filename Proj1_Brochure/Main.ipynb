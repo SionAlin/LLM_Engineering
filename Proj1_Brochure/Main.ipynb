{
 "cells": [
  {
   "cell_type": "markdown",
   "id": "04354f95-f290-48e4-b3ab-ec649e117a76",
   "metadata": {},
   "source": [
    "## Imports"
   ]
  },
  {
   "cell_type": "code",
   "execution_count": 1,
   "id": "56736a93-9291-4ddc-ad0e-7cfe0900cce9",
   "metadata": {},
   "outputs": [],
   "source": [
    "import os\n",
    "import requests\n",
    "import json\n",
    "import ollama\n",
    "from typing import List\n",
    "from dotenv import load_dotenv\n",
    "from bs4 import BeautifulSoup\n",
    "from IPython.display import Markdown, display, update_display\n",
    "from openai import OpenAI\n",
    "import gradio as gr"
   ]
  },
  {
   "cell_type": "markdown",
   "id": "4ca131f3-49a4-4ad0-a70e-7086be6c86b6",
   "metadata": {},
   "source": [
    "## Initialization"
   ]
  },
  {
   "cell_type": "code",
   "execution_count": 2,
   "id": "fb3fe63b-7444-44fc-98a5-f470b2dbdf68",
   "metadata": {},
   "outputs": [
    {
     "name": "stdout",
     "output_type": "stream",
     "text": [
      "OpenAI API Key exists and begins sk-proj-\n"
     ]
    }
   ],
   "source": [
    "load_dotenv(override = True)\n",
    "\n",
    "openai_api_key = os.getenv('OPENAI_API_KEY')\n",
    "if openai_api_key:\n",
    "    print(f\"OpenAI API Key exists and begins {openai_api_key[:8]}\")\n",
    "else:\n",
    "    print(\"OpenAI API Key not set\")\n"
   ]
  },
  {
   "cell_type": "markdown",
   "id": "e091218e-b7e0-4b8a-a88d-8d23b25bce9c",
   "metadata": {},
   "source": [
    "## Models"
   ]
  },
  {
   "cell_type": "code",
   "execution_count": 3,
   "id": "a78adf3a-6544-4df3-ab8c-b43a4bc108db",
   "metadata": {},
   "outputs": [],
   "source": [
    "MODEL_GPT_4O = \"gpt-4o\"\n",
    "MODEL_GPT_4_TURBO = \"gpt-4-turbo\"\n",
    "MODEL_GPT_35_TURBO = \"gpt-3.5-turbo\"\n",
    "MODEL_LLAMA = 'llama3.2'\n",
    "\n",
    "openai = OpenAI()"
   ]
  },
  {
   "cell_type": "markdown",
   "id": "6595a2e0-07e2-4008-bb54-f80da9498837",
   "metadata": {},
   "source": [
    "## A class to represent a Webpage\n",
    "# Some websites need you to use proper headers when fetching them:"
   ]
  },
  {
   "cell_type": "code",
   "execution_count": 4,
   "id": "2badd5ed-ab55-4152-a5cb-7925d016abfb",
   "metadata": {},
   "outputs": [],
   "source": [
    "headers = {\n",
    " \"User-Agent\": \"Mozilla/5.0 (Windows NT 10.0; Win64; x64) AppleWebKit/537.36 (KHTML, like Gecko) Chrome/117.0.0.0 Safari/537.36\"\n",
    "}\n",
    "\n",
    "class Website:\n",
    "    \"\"\"\n",
    "    A utility class to represent a Website that we have scraped, now with links\n",
    "    \"\"\"\n",
    "\n",
    "    def __init__(self, url):\n",
    "        self.url = url\n",
    "        response = requests.get(url, headers=headers)\n",
    "        self.body = response.content\n",
    "        soup = BeautifulSoup(self.body, 'html.parser')\n",
    "        self.title = soup.title.string if soup.title else \"No title found\"\n",
    "        if soup.body:\n",
    "            for irrelevant in soup.body([\"script\", \"style\", \"img\", \"input\"]):\n",
    "                irrelevant.decompose()\n",
    "            self.text = soup.body.get_text(separator=\"\\n\", strip=True)\n",
    "        else:\n",
    "            self.text = \"\"\n",
    "        links = [link.get('href') for link in soup.find_all('a')]\n",
    "        self.links = [link for link in links if link]\n",
    "\n",
    "    def get_contents(self):\n",
    "        return f\"Webpage Title:\\n{self.title}\\nWebpage Contents:\\n{self.text}\\n\\n\""
   ]
  },
  {
   "cell_type": "markdown",
   "id": "e0107186-9964-4041-b44c-25012e36b6e0",
   "metadata": {},
   "source": [
    "## System prompt for links"
   ]
  },
  {
   "cell_type": "code",
   "execution_count": 5,
   "id": "dca562aa-7ae2-4f38-81ed-1488b5df831f",
   "metadata": {},
   "outputs": [],
   "source": [
    "link_system_prompt = \"You are provided with a list of links found on a webpage. \\\n",
    "You are able to decide which of the links would be most relevant to include in a brochure about the company, \\\n",
    "such as links to an About page, or a Company page, or Careers/Jobs pages.\\n\"\n",
    "link_system_prompt += \"You should respond in JSON as in this example:\"\n",
    "link_system_prompt += \"\"\"\n",
    "{\n",
    "    \"links\": [\n",
    "        {\"type\": \"about page\", \"url\": \"https://full.url/goes/here/about\"},\n",
    "        {\"type\": \"contact page\", \"url\": \"https://example.com/contact\"}\n",
    "    ]\n",
    "}\n",
    "\"\"\""
   ]
  },
  {
   "cell_type": "markdown",
   "id": "e9ceb9d8-33e8-49b2-9b4e-5c38ad72c873",
   "metadata": {},
   "source": [
    "## User prompt"
   ]
  },
  {
   "cell_type": "code",
   "execution_count": 6,
   "id": "8e7cbece-34c0-434c-bfab-a6fec0f4e1b9",
   "metadata": {},
   "outputs": [],
   "source": [
    "def get_user_prompt(website):\n",
    "    user_prompt = f\"Here is the list of links on the website of {website.url} - \"\n",
    "    user_prompt += \"please decide which of these are relevant web links for a brochure about the company, respond with the full https URL in JSON format. \\\n",
    "Do not include Terms of Service, Privacy, email links.\\n\"\n",
    "    user_prompt += \"Links (some might be relative links):\\n\"\n",
    "    user_prompt += \"\\n\".join(website.links)\n",
    "    return user_prompt"
   ]
  },
  {
   "cell_type": "markdown",
   "id": "3eebc377-7706-473f-ae4e-d679b666b9f7",
   "metadata": {},
   "source": [
    "## Openai links"
   ]
  },
  {
   "cell_type": "code",
   "execution_count": 7,
   "id": "9a7e3c7e-4d79-48a4-9641-81af5933c44f",
   "metadata": {},
   "outputs": [],
   "source": [
    "def get_links(url, openai_model):\n",
    "    website = Website(url)\n",
    "    response = openai.chat.completions.create(\n",
    "        model=openai_model,\n",
    "        messages=[\n",
    "            {\"role\": \"system\", \"content\": link_system_prompt},\n",
    "            {\"role\": \"user\", \"content\": get_user_prompt(website)}\n",
    "        ],\n",
    "        response_format={\"type\": \"json_object\"}\n",
    "    )\n",
    "    result = response.choices[0].message.content\n",
    "    return json.loads(result)"
   ]
  },
  {
   "cell_type": "markdown",
   "id": "1481cd0f-f729-4660-9292-870db6aa8cdd",
   "metadata": {},
   "source": [
    "## All Details"
   ]
  },
  {
   "cell_type": "code",
   "execution_count": 8,
   "id": "1d8957dd-5a4b-4ddb-9a28-7dc7e24803be",
   "metadata": {},
   "outputs": [],
   "source": [
    "def get_all_details(url):\n",
    "    result = \"Landing page:\\n\"\n",
    "    result += Website(url).get_contents()\n",
    "    links = get_links(url, MODEL_GPT_4O_MINI)\n",
    "    for link in links[\"links\"]:\n",
    "        result += f\"\\n\\n{link['type']}\\n\"\n",
    "        result += Website(link[\"url\"]).get_contents()\n",
    "    return result"
   ]
  },
  {
   "cell_type": "markdown",
   "id": "2d2b6153-23d9-494b-8a8c-660ffba879ac",
   "metadata": {},
   "source": [
    "## System prompt for brochure gen"
   ]
  },
  {
   "cell_type": "code",
   "execution_count": 9,
   "id": "fe991afb-8f71-441a-b305-664f618edfe9",
   "metadata": {},
   "outputs": [],
   "source": [
    "def system_prompt(lang):\n",
    "    return f\"You are an assistant that analyzes the contents of several relevant pages from a company website \\\n",
    "    and creates a short brochure about the company for prospective customers, investors and recruits. Respond in markdown.\\\n",
    "    Include details of company culture, customers and careers/jobs if you have the information.\\\n",
    "    And very important, generate it in {lang}\""
   ]
  },
  {
   "cell_type": "markdown",
   "id": "f0fd24d5-f0ab-4b15-bf64-c95aeb8e3b14",
   "metadata": {},
   "source": [
    "## User prompt for brochure gen"
   ]
  },
  {
   "cell_type": "code",
   "execution_count": 10,
   "id": "231cb024-99d4-4061-989c-7ef5de435f41",
   "metadata": {},
   "outputs": [],
   "source": [
    "def get_brochure_user_prompt(company_name, url):\n",
    "    user_prompt = f\"You are looking at a company called: {company_name}\\n\"\n",
    "    user_prompt += f\"Here are the contents of its landing page and other relevant pages; use this information to build a short brochure of the company in markdown.\\n\"\n",
    "    user_prompt += get_all_details(url)\n",
    "    user_prompt = user_prompt[:5_000]\n",
    "    return user_prompt"
   ]
  },
  {
   "cell_type": "markdown",
   "id": "47731c3f-fb28-4cc9-a371-904f565d6804",
   "metadata": {},
   "source": [
    "## Create Brochure"
   ]
  },
  {
   "cell_type": "code",
   "execution_count": 11,
   "id": "4b7fdf2f-2c84-4fa8-b4f7-c5061f41b222",
   "metadata": {},
   "outputs": [],
   "source": [
    "def create_brochure(company_name, url, lang, model):\n",
    "    if model != MODEL_LLAMA:\n",
    "        response = openai.chat.completions.create(\n",
    "            model = model,\n",
    "            messages=[\n",
    "                {\"role\": \"system\", \"content\": system_prompt(lang)},\n",
    "                {\"role\": \"user\", \"content\": get_brochure_user_prompt(company_name, url)}\n",
    "              ]\n",
    "        )\n",
    "        result = response.choices[0].message.content\n",
    "    else:\n",
    "        response = ollama.chat(\n",
    "            model = model,\n",
    "            messages=[\n",
    "                {\"role\": \"system\", \"content\": system_prompt(lang)},\n",
    "                {\"role\": \"user\", \"content\": get_brochure_user_prompt(company_name, url)}\n",
    "              ]\n",
    "        )\n",
    "        result = response[\"message\"][\"content\"]\n",
    "    return result"
   ]
  },
  {
   "cell_type": "markdown",
   "id": "2d2ae094-2293-42ed-a877-b45b32d79378",
   "metadata": {},
   "source": [
    "## Gradio UI"
   ]
  },
  {
   "cell_type": "code",
   "execution_count": 12,
   "id": "93b75372-6c11-48f1-a09e-458ddb6ca47a",
   "metadata": {},
   "outputs": [
    {
     "name": "stdout",
     "output_type": "stream",
     "text": [
      "* Running on local URL:  http://127.0.0.1:7907\n",
      "* To create a public link, set `share=True` in `launch()`.\n"
     ]
    },
    {
     "data": {
      "text/html": [
       "<div><iframe src=\"http://127.0.0.1:7907/\" width=\"100%\" height=\"500\" allow=\"autoplay; camera; microphone; clipboard-read; clipboard-write;\" frameborder=\"0\" allowfullscreen></iframe></div>"
      ],
      "text/plain": [
       "<IPython.core.display.HTML object>"
      ]
     },
     "metadata": {},
     "output_type": "display_data"
    },
    {
     "data": {
      "text/plain": []
     },
     "execution_count": 12,
     "metadata": {},
     "output_type": "execute_result"
    }
   ],
   "source": [
    "MODEL_OPTIONS = [\n",
    "    MODEL_GPT_4O,\n",
    "    MODEL_GPT_4_TURBO,\n",
    "    MODEL_GPT_35_TURBO,\n",
    "    MODEL_LLAMA\n",
    "]\n",
    "\n",
    "with gr.Blocks() as ui:\n",
    "    \n",
    "    with gr.Row():\n",
    "        company_name = gr.Textbox(label=\"Company Name\", placeholder=\"e.g., OpenAI\")\n",
    "        url = gr.Textbox(label=\"Website URL\", placeholder=\"https://example.com\")\n",
    "    \n",
    "    with gr.Row():\n",
    "        lang = gr.Textbox(label=\"Language\", value=\"English\")\n",
    "        model = gr.Dropdown(choices=MODEL_OPTIONS, value=\"gpt-4o\", label=\"Model\")\n",
    "\n",
    "    brochure_output = gr.Markdown()\n",
    "\n",
    "    with gr.Row():\n",
    "        generate_btn = gr.Button(\"Generate Brochure\")\n",
    "        clear_btn = gr.Button(\"Clear\")\n",
    "\n",
    "    generate_btn.click(\n",
    "        fn=create_brochure,\n",
    "        inputs=[company_name, url, lang, model],\n",
    "        outputs=brochure_output\n",
    "    )\n",
    "    \n",
    "    clear_btn.click(lambda: \"\", None, brochure_output, queue=False)\n",
    "\n",
    "ui.launch(inbrowser=True)"
   ]
  }
 ],
 "metadata": {
  "kernelspec": {
   "display_name": "Python 3 (ipykernel)",
   "language": "python",
   "name": "python3"
  },
  "language_info": {
   "codemirror_mode": {
    "name": "ipython",
    "version": 3
   },
   "file_extension": ".py",
   "mimetype": "text/x-python",
   "name": "python",
   "nbconvert_exporter": "python",
   "pygments_lexer": "ipython3",
   "version": "3.11.13"
  }
 },
 "nbformat": 4,
 "nbformat_minor": 5
}
