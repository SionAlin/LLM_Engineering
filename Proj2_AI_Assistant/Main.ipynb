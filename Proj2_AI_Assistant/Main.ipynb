{
 "cells": [
  {
   "cell_type": "markdown",
   "id": "5f5cf3fc-5afc-4247-91e8-9db07fa8e2d6",
   "metadata": {},
   "source": [
    "## Imports"
   ]
  },
  {
   "cell_type": "code",
   "execution_count": 127,
   "id": "6afd0a62-7f54-47a6-8b8b-390830d29334",
   "metadata": {},
   "outputs": [],
   "source": [
    "import os\n",
    "import base64\n",
    "import json\n",
    "from io import BytesIO\n",
    "from dotenv import load_dotenv\n",
    "from openai import OpenAI\n",
    "from PIL import Image\n",
    "import gradio as gr"
   ]
  },
  {
   "cell_type": "markdown",
   "id": "9d9280a3-0a41-4e84-9089-32072bd28dcf",
   "metadata": {},
   "source": [
    "## Initialization"
   ]
  },
  {
   "cell_type": "code",
   "execution_count": 128,
   "id": "934af4bf-2111-4fcf-8deb-5ca0bc4aabba",
   "metadata": {},
   "outputs": [
    {
     "name": "stdout",
     "output_type": "stream",
     "text": [
      "OpenAI API Key exists and begins sk-proj-\n"
     ]
    }
   ],
   "source": [
    "load_dotenv(override=True)\n",
    "\n",
    "openai_api_key = os.getenv('OPENAI_API_KEY')\n",
    "if openai_api_key:\n",
    "    print(f\"OpenAI API Key exists and begins {openai_api_key[:8]}\")\n",
    "else:\n",
    "    print(\"OpenAI API Key not set\")\n",
    "    \n",
    "MODEL = \"gpt-4o-mini\"\n",
    "openai = OpenAI()"
   ]
  },
  {
   "cell_type": "markdown",
   "id": "f5c7f303-d937-49c4-aed6-e0ebabf9d4ef",
   "metadata": {},
   "source": [
    "## Prompts"
   ]
  },
  {
   "cell_type": "code",
   "execution_count": 129,
   "id": "df098afe-db87-43f5-8579-f5540866322d",
   "metadata": {},
   "outputs": [],
   "source": [
    "system_message = \"You are a helpful assistant for an Airline called FlightAI. \"\n",
    "system_message += \"Give short, courteous answers, no more than 1 sentence. \"\n",
    "system_message += \"Always be accurate. If you don't know the answer, say so.\"\n",
    "system_message += \"If the user asks for a picture of a city, use the artist tool. \"\n",
    "system_message += \"If the user asks for a ticket price, use the get_ticket_price tool.\""
   ]
  },
  {
   "cell_type": "markdown",
   "id": "4da7b232-4e62-4048-ab18-9b10ce66ee71",
   "metadata": {},
   "source": [
    "## Tools"
   ]
  },
  {
   "cell_type": "markdown",
   "id": "41107e45-6ce0-4560-bf31-113f60127d52",
   "metadata": {},
   "source": [
    "# Price tool"
   ]
  },
  {
   "cell_type": "code",
   "execution_count": 130,
   "id": "a85cb618-a0a3-45be-9591-4c2518118f8b",
   "metadata": {},
   "outputs": [],
   "source": [
    "ticket_prices = {\n",
    "    \"paris\":\"€36\", \"london\":\"€50\", \"liverpool\":\"€40\", \"edinburgh\":\"€130\", \n",
    "    \"manchester\":\"€136\", \"glasgow\":\"€150\", \"lyon\":\"€143\", \"rome\":\"€130\",\n",
    "    \"berlin\":\"€29\", \"cardiff\":\"€210\", \"copenhagen\":\"€35\", \"newcastle\":\"€185\"\n",
    "}\n",
    "\n",
    "def get_ticket_price(destination_city):\n",
    "    city = destination_city.lower()\n",
    "    return ticket_prices.get(city, \"Unknown\")"
   ]
  },
  {
   "cell_type": "code",
   "execution_count": 131,
   "id": "8a321b2d-1227-42fb-bff9-f54153b14eda",
   "metadata": {},
   "outputs": [],
   "source": [
    "price_function = {\n",
    "    \"name\": \"get_ticket_price\",\n",
    "    \"description\": \"Get the price of a return ticket to the destination city. Call this whenever you need to know the ticket price, for example when a customer asks 'How much is a ticket to this city'\",\n",
    "    \"parameters\": {\n",
    "        \"type\": \"object\",\n",
    "        \"properties\": {\n",
    "            \"destination_city\": {\n",
    "                \"type\": \"string\",\n",
    "                \"description\": \"The city that the customer wants to travel to\",\n",
    "            },\n",
    "        },\n",
    "        \"required\": [\"destination_city\"]\n",
    "    }\n",
    "}"
   ]
  },
  {
   "cell_type": "markdown",
   "id": "779fa370-8389-4133-b233-9ae179d8b36b",
   "metadata": {},
   "source": [
    "# Artist tool"
   ]
  },
  {
   "cell_type": "code",
   "execution_count": 133,
   "id": "183b71a2-b222-4914-a036-7d7c416edf45",
   "metadata": {},
   "outputs": [],
   "source": [
    "def artist(city):\n",
    "    image_response = openai.images.generate(\n",
    "        model=\"dall-e-3\",\n",
    "        prompt=f\"An image representing a vacation in {city}, showing tourist spots and everything unique about {city}\",\n",
    "        size=\"1024x1024\",\n",
    "        n=1,\n",
    "        response_format=\"b64_json\"\n",
    "    )\n",
    "    \n",
    "    image_base64 = image_response.data[0].b64_json\n",
    "    image_data = base64.b64decode(image_base64)\n",
    "    display(Image.open(BytesIO(image_data)))\n",
    "    return Image.open(BytesIO(image_data))"
   ]
  },
  {
   "cell_type": "code",
   "execution_count": 134,
   "id": "6a2383d7-0311-4096-aa61-1ae4dd0bd256",
   "metadata": {},
   "outputs": [],
   "source": [
    "artist_function = {\n",
    "    \"name\": \"artist\",\n",
    "    \"description\": \"Get the image of the city. Call this whenever you need to generate a picture of a city, for example, when a customer asks 'Can you show me a picture of this city?'\",\n",
    "    \"parameters\": {\n",
    "        \"type\": \"object\",\n",
    "        \"properties\": {\n",
    "            \"destination_city\": {\n",
    "                \"type\": \"string\",\n",
    "                \"description\": \"The city that the customer wants to travel to\",\n",
    "            },\n",
    "        },\n",
    "        \"required\": [\"destination_city\"]\n",
    "    }\n",
    "}"
   ]
  },
  {
   "cell_type": "markdown",
   "id": "5cf8d7f0-1e99-4916-bb8d-0bcda5811960",
   "metadata": {},
   "source": [
    "# Number tool"
   ]
  },
  {
   "cell_type": "code",
   "execution_count": 135,
   "id": "a1ee49d3-7c3c-4c21-b8f8-92fe67506cab",
   "metadata": {},
   "outputs": [],
   "source": [
    "tickets_number = {\n",
    "    \"paris\":\"5\", \"london\":\"20\", \"liverpool\":\"0\", \"edinburgh\":\"45\", \n",
    "    \"manchester\":\"1\", \"glasgow\":\"53\", \"lyon\":\"86\", \"rome\":\"72\",\n",
    "    \"berlin\":\"80\", \"cardiff\":\"92\", \"copenhagen\":\"93\", \"newcastle\":\"2\"\n",
    "}\n",
    "\n",
    "def get_tickets_number(destination_city):\n",
    "    city = destination_city.lower()\n",
    "    return tickets_number.get(city, \"Unknown\")"
   ]
  },
  {
   "cell_type": "code",
   "execution_count": 136,
   "id": "a2c5bae7-9a1b-43bc-a9bc-5798a142469f",
   "metadata": {},
   "outputs": [],
   "source": [
    "number_function = {\n",
    "    \"name\": \"get_tickets_number\",\n",
    "    \"description\": \"Get the number of return tickets available to the destination city. Call this whenever you need to know how many tickets are available, for example when a customer asks 'How many tickets are available to a city?'\",\n",
    "    \"parameters\": {\n",
    "        \"type\": \"object\",\n",
    "        \"properties\": {\n",
    "            \"destination_city\": {\n",
    "                \"type\": \"string\",\n",
    "                \"description\": \"The city that the customer wants to travel to\"\n",
    "            }\n",
    "        },\n",
    "        \"required\": [\"destination_city\"]\n",
    "    }\n",
    "}"
   ]
  },
  {
   "cell_type": "markdown",
   "id": "cc3f09d7-dbf4-4e26-aae3-b415b5b3d6da",
   "metadata": {},
   "source": [
    "## Chat"
   ]
  },
  {
   "cell_type": "code",
   "execution_count": 140,
   "id": "2b370982-85d6-4f21-8e03-ba7c087b37ce",
   "metadata": {},
   "outputs": [],
   "source": [
    "tools = [{\"type\": \"function\", \"function\": price_function}, \n",
    "         {\"type\": \"function\", \"function\": artist_function}, \n",
    "         {\"type\": \"function\", \"function\": number_function}\n",
    "        ]\n",
    "\n",
    "def chat(message, history):\n",
    "    messages = [{\"role\": \"system\", \"content\": system_message}] + history + [{\"role\": \"user\", \"content\": message}]\n",
    "    response = openai.chat.completions.create(model=MODEL, messages=messages, tools=tools)\n",
    "\n",
    "    image_to_show = None\n",
    "\n",
    "    if response.choices[0].finish_reason == \"tool_calls\":\n",
    "        tool_msg = response.choices[0].message\n",
    "        response_tool_msg, _, image_to_show, _ = handle_tool_call(tool_msg)\n",
    "\n",
    "        messages.append(tool_msg)\n",
    "        messages.append(response_tool_msg)\n",
    "\n",
    "        response = openai.chat.completions.create(model=MODEL, messages=messages)\n",
    "\n",
    "    reply_text = response.choices[0].message.content\n",
    "\n",
    "    history.append({\"role\": \"user\", \"content\": message})\n",
    "    history.append({\"role\": \"assistant\", \"content\": reply_text})\n",
    "\n",
    "    return history, image_to_show"
   ]
  },
  {
   "cell_type": "markdown",
   "id": "3e24f99d-0a87-4bb4-9d6a-95d56410c769",
   "metadata": {},
   "source": [
    "# Tool calls"
   ]
  },
  {
   "cell_type": "code",
   "execution_count": 138,
   "id": "e08cadb6-a41b-4015-928d-bfd932c58e37",
   "metadata": {},
   "outputs": [],
   "source": [
    "def handle_tool_call(message):\n",
    "    tool_call = message.tool_calls[0]\n",
    "    function_name = tool_call.function.name\n",
    "    arguments = json.loads(tool_call.function.arguments)\n",
    "    city = arguments.get('destination_city')\n",
    "\n",
    "    if function_name == \"get_ticket_price\":\n",
    "        price = get_ticket_price(city)\n",
    "        response = {\n",
    "            \"role\": \"tool\",\n",
    "            \"content\": json.dumps({\"destination_city\": city,\"price\": price}),\n",
    "            \"tool_call_id\": tool_call.id\n",
    "        }\n",
    "        return response, price, None, None\n",
    "        \n",
    "    elif function_name == \"artist\":\n",
    "        image = artist(city)\n",
    "        response = {\n",
    "            \"role\": \"tool\",\n",
    "            \"content\": json.dumps({\"destination_city\": city}),\n",
    "            \"tool_call_id\": tool_call.id\n",
    "        }\n",
    "        return response, None, image, None\n",
    "\n",
    "    elif function_name == \"get_tickets_number\":\n",
    "        number = get_tickets_number(city)\n",
    "        response = {\n",
    "            \"role\": \"tool\",\n",
    "            \"content\": json.dumps({\"destination_city\": city, \"number\": number}),\n",
    "            \"tool_call_id\": tool_call.id\n",
    "        }\n",
    "        return response, None, None, number\n",
    "        \n",
    "    return None, None, None, None"
   ]
  },
  {
   "cell_type": "markdown",
   "id": "e1e4f403-ddd4-4a44-9b24-d1df321cf7d5",
   "metadata": {},
   "source": [
    "## UI"
   ]
  },
  {
   "cell_type": "code",
   "execution_count": 142,
   "id": "92ccd09d-e1af-4f6d-bc60-585a594c744a",
   "metadata": {},
   "outputs": [
    {
     "name": "stdout",
     "output_type": "stream",
     "text": [
      "* Running on local URL:  http://127.0.0.1:7908\n",
      "* To create a public link, set `share=True` in `launch()`.\n"
     ]
    },
    {
     "data": {
      "text/html": [
       "<div><iframe src=\"http://127.0.0.1:7908/\" width=\"100%\" height=\"500\" allow=\"autoplay; camera; microphone; clipboard-read; clipboard-write;\" frameborder=\"0\" allowfullscreen></iframe></div>"
      ],
      "text/plain": [
       "<IPython.core.display.HTML object>"
      ]
     },
     "metadata": {},
     "output_type": "display_data"
    },
    {
     "data": {
      "text/plain": []
     },
     "execution_count": 142,
     "metadata": {},
     "output_type": "execute_result"
    }
   ],
   "source": [
    "with gr.Blocks() as ui:\n",
    "    with gr.Row():\n",
    "        with gr.Column(scale=2):\n",
    "            chatbot = gr.Chatbot(label=\"FlightAI Assistant\", type=\"messages\", height=600)\n",
    "            \n",
    "        with gr.Column(scale=1):\n",
    "            image_output = gr.Image(label=\"City Image\", height=600)\n",
    "\n",
    "    user_input = gr.Textbox(label=\"Ask something about your trip:\")\n",
    "    submit_btn = gr.Button(\"Send\")\n",
    "    \n",
    "    def handle_submit(user_input_text, chat_display_history):\n",
    "        return chat(user_input_text, chat_display_history or [])\n",
    "\n",
    "    submit_btn.click(\n",
    "        fn=handle_submit,\n",
    "        inputs=[user_input, chatbot],\n",
    "        outputs=[chatbot, image_output]\n",
    "    )\n",
    "    \n",
    "    user_input.submit(\n",
    "        fn=handle_submit,\n",
    "        inputs=[user_input, chatbot],\n",
    "        outputs=[chatbot, image_output]\n",
    "    )\n",
    "\n",
    "    def clear():\n",
    "        global chat_history_openai\n",
    "        chat_history_openai = []\n",
    "        return [], None\n",
    "\n",
    "    clear_btn = gr.Button(\"Clear Chat\")\n",
    "    clear_btn.click(fn=clear, outputs=[chatbot, image_output])\n",
    "\n",
    "ui.launch(inbrowser=True)"
   ]
  }
 ],
 "metadata": {
  "kernelspec": {
   "display_name": "Python 3 (ipykernel)",
   "language": "python",
   "name": "python3"
  },
  "language_info": {
   "codemirror_mode": {
    "name": "ipython",
    "version": 3
   },
   "file_extension": ".py",
   "mimetype": "text/x-python",
   "name": "python",
   "nbconvert_exporter": "python",
   "pygments_lexer": "ipython3",
   "version": "3.11.13"
  }
 },
 "nbformat": 4,
 "nbformat_minor": 5
}
